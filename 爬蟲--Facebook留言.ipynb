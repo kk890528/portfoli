{
 "cells": [
  {
   "cell_type": "code",
   "execution_count": 1,
   "metadata": {},
   "outputs": [],
   "source": [
    "%matplotlib inline\n",
    "from bs4 import BeautifulSoup\n",
    "from selenium import webdriver\n",
    "from selenium import webdriver\n",
    "from selenium.webdriver.chrome.options import Options\n",
    "from selenium.webdriver.support.ui import WebDriverWait\n",
    "from selenium.webdriver.support import expected_conditions as EC\n",
    "from selenium.webdriver.common.by import By\n",
    "import time\n",
    "\n",
    "import re\n",
    "import math\n",
    "import pandas as pd\n",
    "import numpy as np\n",
    "from datetime import datetime\n",
    "from selenium.webdriver.common.action_chains import ActionChains #move_to_element\n",
    "from selenium.common.exceptions import StaleElementReferenceException #error > element is not attached to the page document\n",
    "from selenium.common.exceptions import NoSuchElementException #點完所有按鈕時"
   ]
  },
  {
   "cell_type": "code",
   "execution_count": 2,
   "metadata": {},
   "outputs": [],
   "source": [
    "driver = webdriver.Chrome('chromedriver')"
   ]
  },
  {
   "cell_type": "code",
   "execution_count": 3,
   "metadata": {},
   "outputs": [],
   "source": [
    "\n",
    "driver.get('https://www.facebook.com/')\n",
    "input_1 = driver.find_element_by_css_selector('#email')\n",
    "input_2 = driver.find_element_by_css_selector(\"input[type='password']\")\n",
    "\n",
    "input_1.send_keys('kk890528@yahoo.com.tw')\n",
    "input_2.send_keys('Mich0528')\n",
    "driver.find_element_by_css_selector(\"button[name='login']\").click()\n",
    "time.sleep(1)"
   ]
  },
  {
   "cell_type": "markdown",
   "metadata": {},
   "source": [
    "## 從韓國瑜專業篩選貼文網址"
   ]
  },
  {
   "cell_type": "code",
   "execution_count": 4,
   "metadata": {},
   "outputs": [],
   "source": [
    "url='https://www.facebook.com/page/1863023523934803/search?q=%E9%AB%98%E9%9B%84&filters=eyJycF9jcmVhdGlvbl90aW1lOjAiOiJ7XCJuYW1lXCI6XCJjcmVhdGlvbl90aW1lXCIsXCJhcmdzXCI6XCJ7XFxcInN0YXJ0X3llYXJcXFwiOlxcXCIyMDE4XFxcIixcXFwic3RhcnRfbW9udGhcXFwiOlxcXCIyMDE4LTFcXFwiLFxcXCJlbmRfeWVhclxcXCI6XFxcIjIwMThcXFwiLFxcXCJlbmRfbW9udGhcXFwiOlxcXCIyMDE4LTEyXFxcIixcXFwic3RhcnRfZGF5XFxcIjpcXFwiMjAxOC0xLTFcXFwiLFxcXCJlbmRfZGF5XFxcIjpcXFwiMjAxOC0xMi0zMVxcXCJ9XCJ9In0%3D'\n",
    "driver.get(url)"
   ]
  },
  {
   "cell_type": "code",
   "execution_count": 187,
   "metadata": {},
   "outputs": [],
   "source": [
    "for i in range(0,10):\n",
    "    js=\"var q=document.documentElement.scrollTop=100000\"  \n",
    "    driver.execute_script(js)  \n",
    "    time.sleep(1)\n",
    "    "
   ]
  },
  {
   "cell_type": "code",
   "execution_count": 194,
   "metadata": {},
   "outputs": [],
   "source": [
    "htmltext = driver.page_source\n",
    "soup = BeautifulSoup(htmltext,\"lxml\")"
   ]
  },
  {
   "cell_type": "code",
   "execution_count": 422,
   "metadata": {},
   "outputs": [],
   "source": [
    "k=soup.find_all('a',attrs={'class':\"oajrlxb2 g5ia77u1 qu0x051f esr5mh6w e9989ue4 r7d6kgcz rq0escxv nhd2j8a9 a8c37x1j p7hjln8o kvgmc6g5 cxmmr5t8 oygrvhab hcukyx3x jb3vyjys rz4wbd8a qt6c0cv9 a8nywdso i1ao9s8h esuyzwwr f1sip0of lzcic4wl gmql0nx0 p8dawk7l\"})"
   ]
  },
  {
   "cell_type": "code",
   "execution_count": 175,
   "metadata": {},
   "outputs": [],
   "source": [
    "#https=[]"
   ]
  },
  {
   "cell_type": "code",
   "execution_count": 196,
   "metadata": {},
   "outputs": [],
   "source": [
    "for i in k:\n",
    "    https.append(i['href'])"
   ]
  },
  {
   "cell_type": "code",
   "execution_count": 197,
   "metadata": {},
   "outputs": [
    {
     "data": {
      "text/plain": [
       "1058"
      ]
     },
     "execution_count": 197,
     "metadata": {},
     "output_type": "execute_result"
    }
   ],
   "source": [
    "len(https)"
   ]
  },
  {
   "cell_type": "code",
   "execution_count": 198,
   "metadata": {},
   "outputs": [],
   "source": [
    "df=pd.DataFrame({'網址':pd.unique(pd.Series(https))})"
   ]
  },
  {
   "cell_type": "code",
   "execution_count": 199,
   "metadata": {},
   "outputs": [
    {
     "data": {
      "text/plain": [
       "347"
      ]
     },
     "execution_count": 199,
     "metadata": {},
     "output_type": "execute_result"
    }
   ],
   "source": [
    "len(df)"
   ]
  },
  {
   "cell_type": "code",
   "execution_count": 5,
   "metadata": {},
   "outputs": [],
   "source": [
    "#ls"
   ]
  },
  {
   "cell_type": "code",
   "execution_count": 6,
   "metadata": {},
   "outputs": [],
   "source": [
    "df=pd.read_excel('韓國瑜網址.xlsx')"
   ]
  },
  {
   "cell_type": "code",
   "execution_count": 7,
   "metadata": {},
   "outputs": [
    {
     "data": {
      "text/html": [
       "<div>\n",
       "<style scoped>\n",
       "    .dataframe tbody tr th:only-of-type {\n",
       "        vertical-align: middle;\n",
       "    }\n",
       "\n",
       "    .dataframe tbody tr th {\n",
       "        vertical-align: top;\n",
       "    }\n",
       "\n",
       "    .dataframe thead th {\n",
       "        text-align: right;\n",
       "    }\n",
       "</style>\n",
       "<table border=\"1\" class=\"dataframe\">\n",
       "  <thead>\n",
       "    <tr style=\"text-align: right;\">\n",
       "      <th></th>\n",
       "      <th>Unnamed: 0</th>\n",
       "      <th>網址</th>\n",
       "    </tr>\n",
       "  </thead>\n",
       "  <tbody>\n",
       "    <tr>\n",
       "      <th>0</th>\n",
       "      <td>0</td>\n",
       "      <td>https://www.facebook.com/twherohan/posts/21550...</td>\n",
       "    </tr>\n",
       "    <tr>\n",
       "      <th>1</th>\n",
       "      <td>1</td>\n",
       "      <td>https://www.facebook.com/twherohan/posts/23217...</td>\n",
       "    </tr>\n",
       "    <tr>\n",
       "      <th>2</th>\n",
       "      <td>2</td>\n",
       "      <td>https://www.facebook.com/twherohan/posts/22579...</td>\n",
       "    </tr>\n",
       "    <tr>\n",
       "      <th>3</th>\n",
       "      <td>3</td>\n",
       "      <td>https://www.facebook.com/twherohan/posts/22679...</td>\n",
       "    </tr>\n",
       "    <tr>\n",
       "      <th>4</th>\n",
       "      <td>4</td>\n",
       "      <td>https://www.facebook.com/twherohan/posts/22609...</td>\n",
       "    </tr>\n",
       "    <tr>\n",
       "      <th>...</th>\n",
       "      <td>...</td>\n",
       "      <td>...</td>\n",
       "    </tr>\n",
       "    <tr>\n",
       "      <th>342</th>\n",
       "      <td>342</td>\n",
       "      <td>https://www.facebook.com/twherohan/posts/22363...</td>\n",
       "    </tr>\n",
       "    <tr>\n",
       "      <th>343</th>\n",
       "      <td>343</td>\n",
       "      <td>https://www.facebook.com/twherohan/posts/22712...</td>\n",
       "    </tr>\n",
       "    <tr>\n",
       "      <th>344</th>\n",
       "      <td>344</td>\n",
       "      <td>https://www.facebook.com/twherohan/posts/23214...</td>\n",
       "    </tr>\n",
       "    <tr>\n",
       "      <th>345</th>\n",
       "      <td>345</td>\n",
       "      <td>https://www.facebook.com/twherohan/photos/a.19...</td>\n",
       "    </tr>\n",
       "    <tr>\n",
       "      <th>346</th>\n",
       "      <td>346</td>\n",
       "      <td>https://www.facebook.com/twherohan/posts/23212...</td>\n",
       "    </tr>\n",
       "  </tbody>\n",
       "</table>\n",
       "<p>347 rows × 2 columns</p>\n",
       "</div>"
      ],
      "text/plain": [
       "     Unnamed: 0                                                 網址\n",
       "0             0  https://www.facebook.com/twherohan/posts/21550...\n",
       "1             1  https://www.facebook.com/twherohan/posts/23217...\n",
       "2             2  https://www.facebook.com/twherohan/posts/22579...\n",
       "3             3  https://www.facebook.com/twherohan/posts/22679...\n",
       "4             4  https://www.facebook.com/twherohan/posts/22609...\n",
       "..          ...                                                ...\n",
       "342         342  https://www.facebook.com/twherohan/posts/22363...\n",
       "343         343  https://www.facebook.com/twherohan/posts/22712...\n",
       "344         344  https://www.facebook.com/twherohan/posts/23214...\n",
       "345         345  https://www.facebook.com/twherohan/photos/a.19...\n",
       "346         346  https://www.facebook.com/twherohan/posts/23212...\n",
       "\n",
       "[347 rows x 2 columns]"
      ]
     },
     "execution_count": 7,
     "metadata": {},
     "output_type": "execute_result"
    }
   ],
   "source": [
    "df"
   ]
  },
  {
   "cell_type": "markdown",
   "metadata": {},
   "source": [
    "# 爬留言"
   ]
  },
  {
   "cell_type": "code",
   "execution_count": 66,
   "metadata": {},
   "outputs": [],
   "source": [
    "comment_list=[]"
   ]
  },
  {
   "cell_type": "code",
   "execution_count": 72,
   "metadata": {},
   "outputs": [],
   "source": [
    "for i in range(74,75):\n",
    "    try:\n",
    "        url=url=df['網址'][i]\n",
    "        driver.get(url)\n",
    "        time.sleep(1)\n",
    "        w1='div.'+'oajrlxb2 g5ia77u1 qu0x051f esr5mh6w e9989ue4 r7d6kgcz rq0escxv nhd2j8a9 nc684nl6 p7hjln8o kvgmc6g5 cxmmr5t8 oygrvhab hcukyx3x jb3vyjys rz4wbd8a qt6c0cv9 a8nywdso i1ao9s8h esuyzwwr f1sip0of lzcic4wl oo9gr5id gpro0wi8 lrazzd5p'.replace(' ','.')\n",
    "        element1=driver.find_elements_by_css_selector(w1)\n",
    "        for i in element1:\n",
    "            try:\n",
    "                i.click()\n",
    "            except:\n",
    "                pass\n",
    "        time.sleep(1)\n",
    "        htmltext = driver.page_source\n",
    "        soup = BeautifulSoup(htmltext,\"lxml\")\n",
    "        relative_comment=soup.find_all('div',attrs={'class':'kvgmc6g5 cxmmr5t8 oygrvhab hcukyx3x c1et5uql'})[0:30]\n",
    "        relate=[]\n",
    "        for i in relative_comment:\n",
    "            relate.append(i.text)\n",
    "        time.sleep(2)\n",
    "        #最新\n",
    "        js=\"var q=document.documentElement.scrollTop=0\"  \n",
    "        driver.execute_script(js)\n",
    "        time.sleep(3)\n",
    "        w2='div.'+'oajrlxb2 g5ia77u1 qu0x051f esr5mh6w e9989ue4 r7d6kgcz rq0escxv nhd2j8a9 nc684nl6 p7hjln8o kvgmc6g5 cxmmr5t8 oygrvhab hcukyx3x jb3vyjys rz4wbd8a qt6c0cv9 a8nywdso i1ao9s8h esuyzwwr f1sip0of lzcic4wl l9j0dhe7 abiwlrkh p8dawk7l'.replace(' ','.')\n",
    "        element2=driver.find_elements_by_css_selector(w2)\n",
    "        w3='span.'+'d2edcug0 hpfvmrgz qv66sw1b c1et5uql lr9zc1uh a8c37x1j keod5gw0 nxhoafnm aigsh9s9 d3f4x2em fe6kdd0r mau55g9w c8b282yb iv3no6db jq4qci2q a3bd9o3v ekzkrbhg oo9gr5id hzawbc8m'.replace(' ','.')\n",
    "        try:\n",
    "            time.sleep(1)\n",
    "            element2[0].click()\n",
    "            time.sleep(1)\n",
    "            element3=driver.find_elements_by_css_selector(w3)\n",
    "            element3[1].click()\n",
    "            time.sleep(2)\n",
    "        except:\n",
    "            time.sleep(1)\n",
    "            element2=driver.find_elements_by_css_selector(w2)\n",
    "            element2[1].click()\n",
    "            time.sleep(1)\n",
    "            element3=driver.find_elements_by_css_selector(w3)\n",
    "            element3[1].click()\n",
    "            time.sleep(2)\n",
    "\n",
    "\n",
    "        w4='div.'+'j83agx80 bkfpd7mw jb3vyjys hv4rvrfc qt6c0cv9 dati1w0a l9j0dhe7'.replace(' ','.')\n",
    "        for i in range(0,2):\n",
    "            element4=driver.find_elements_by_css_selector(w4)\n",
    "            element4[1].click()\n",
    "            time.sleep(2)\n",
    "        w1='div.'+'oajrlxb2 g5ia77u1 qu0x051f esr5mh6w e9989ue4 r7d6kgcz rq0escxv nhd2j8a9 nc684nl6 p7hjln8o kvgmc6g5 cxmmr5t8 oygrvhab hcukyx3x jb3vyjys rz4wbd8a qt6c0cv9 a8nywdso i1ao9s8h esuyzwwr f1sip0of lzcic4wl oo9gr5id gpro0wi8 lrazzd5p'.replace(' ','.')\n",
    "        element1=driver.find_elements_by_css_selector(w1)\n",
    "        for i in element1[0:30]:\n",
    "            try:\n",
    "                i.click()\n",
    "            except:\n",
    "                pass\n",
    "        time.sleep(1)\n",
    "        htmltext2 = driver.page_source\n",
    "        soup2 = BeautifulSoup(htmltext2,\"lxml\")\n",
    "        latest_comment=soup2.find_all('div',attrs={'class':'kvgmc6g5 cxmmr5t8 oygrvhab hcukyx3x c1et5uql'})[0:30]\n",
    "        latest=[]\n",
    "        for i in latest_comment:\n",
    "            latest.append(i.text)\n",
    "        comments=[relate,latest]\n",
    "    except:\n",
    "        comments='error'\n",
    "    #comment_list.append(comments)"
   ]
  },
  {
   "cell_type": "code",
   "execution_count": 74,
   "metadata": {},
   "outputs": [
    {
     "name": "stdout",
     "output_type": "stream",
     "text": [
      "第0篇：30，30\n",
      "第1篇：30，30\n",
      "第2篇：30，30\n",
      "第3篇：30，30\n",
      "第4篇：30，30\n",
      "第5篇：30，30\n",
      "第6篇：30，30\n",
      "第7篇：30，30\n",
      "第8篇：30，30\n",
      "第9篇：30，30\n",
      "第10篇：1，1\n",
      "第11篇：30，30\n",
      "第12篇：30，30\n",
      "第13篇：30，30\n",
      "第14篇：30，30\n",
      "第15篇：30，30\n",
      "第16篇：30，30\n",
      "第17篇：1，1\n",
      "第18篇：30，30\n",
      "第19篇：30，30\n",
      "第20篇：30，30\n",
      "第21篇：30，30\n",
      "第22篇：1，1\n",
      "第23篇：30，30\n",
      "第24篇：1，1\n",
      "第25篇：30，30\n",
      "第26篇：30，30\n",
      "第27篇：30，30\n",
      "第28篇：1，1\n",
      "第29篇：1，1\n",
      "第30篇：30，30\n",
      "第31篇：30，30\n",
      "第32篇：0，30\n",
      "第33篇：30，30\n",
      "第34篇：30，30\n",
      "第35篇：1，1\n",
      "第36篇：30，30\n",
      "第37篇：30，30\n",
      "第38篇：1，1\n",
      "第39篇：1，1\n",
      "第40篇：30，30\n",
      "第41篇：30，30\n",
      "第42篇：1，1\n",
      "第43篇：30，30\n",
      "第44篇：30，30\n",
      "第45篇：30，30\n",
      "第46篇：1，1\n",
      "第47篇：1，1\n",
      "第48篇：1，1\n",
      "第49篇：30，30\n",
      "第50篇：30，30\n",
      "第51篇：30，30\n",
      "第52篇：30，30\n",
      "第53篇：30，30\n",
      "第54篇：30，30\n",
      "第55篇：30，30\n",
      "第56篇：30，30\n",
      "第57篇：30，30\n",
      "第58篇：1，1\n",
      "第59篇：30，30\n",
      "第60篇：30，30\n",
      "第61篇：30，30\n",
      "第62篇：0，30\n",
      "第63篇：30，30\n",
      "第64篇：30，30\n",
      "第65篇：30，30\n",
      "第66篇：30，30\n",
      "第67篇：30，30\n",
      "第68篇：30，30\n",
      "第69篇：30，30\n",
      "第70篇：30，30\n",
      "第71篇：30，30\n",
      "第72篇：30，30\n",
      "第73篇：1，1\n",
      "第74篇：30，30\n",
      "第75篇：1，1\n",
      "第76篇：1，1\n",
      "第77篇：30，30\n",
      "第78篇：1，1\n",
      "第79篇：30，30\n",
      "第80篇：1，1\n",
      "第81篇：1，1\n",
      "第82篇：1，1\n",
      "第83篇：1，1\n",
      "第84篇：30，30\n",
      "第85篇：30，30\n",
      "第86篇：30，30\n",
      "第87篇：30，30\n",
      "第88篇：30，30\n",
      "第89篇：30，30\n",
      "第90篇：30，30\n",
      "第91篇：30，30\n",
      "第92篇：30，30\n",
      "第93篇：30，30\n",
      "第94篇：30，30\n",
      "第95篇：30，30\n",
      "第96篇：30，30\n",
      "第97篇：1，1\n",
      "第98篇：1，1\n",
      "第99篇：1，1\n",
      "第100篇：30，30\n",
      "第101篇：30，30\n",
      "第102篇：1，1\n",
      "第103篇：1，1\n",
      "第104篇：30，30\n",
      "第105篇：30，30\n",
      "第106篇：1，1\n",
      "第107篇：1，1\n",
      "第108篇：30，30\n",
      "第109篇：1，1\n",
      "第110篇：30，30\n",
      "第111篇：1，1\n",
      "第112篇：30，30\n",
      "第113篇：30，30\n",
      "第114篇：0，30\n",
      "第115篇：30，30\n",
      "第116篇：30，30\n",
      "第117篇：30，30\n",
      "第118篇：5，30\n",
      "第119篇：30，30\n",
      "第120篇：30，30\n",
      "第121篇：30，30\n",
      "第122篇：30，30\n",
      "第123篇：30，30\n",
      "第124篇：30，30\n",
      "第125篇：30，30\n",
      "第126篇：30，30\n",
      "第127篇：30，30\n",
      "第128篇：30，30\n",
      "第129篇：30，30\n",
      "第130篇：30，30\n",
      "第131篇：15，30\n",
      "第132篇：30，30\n",
      "第133篇：1，1\n",
      "第134篇：30，30\n",
      "第135篇：20，30\n",
      "第136篇：30，30\n",
      "第137篇：1，1\n",
      "第138篇：1，1\n",
      "第139篇：1，1\n",
      "第140篇：1，1\n",
      "第141篇：1，1\n",
      "第142篇：1，1\n",
      "第143篇：1，1\n",
      "第144篇：1，1\n",
      "第145篇：1，1\n",
      "第146篇：1，1\n",
      "第147篇：1，1\n",
      "第148篇：1，1\n",
      "第149篇：25，30\n",
      "第150篇：1，1\n",
      "第151篇：1，1\n",
      "第152篇：30，30\n",
      "第153篇：1，1\n",
      "第154篇：30，30\n",
      "第155篇：30，30\n",
      "第156篇：30，30\n",
      "第157篇：30，30\n",
      "第158篇：30，30\n",
      "第159篇：30，30\n",
      "第160篇：30，30\n",
      "第161篇：30，30\n",
      "第162篇：30，30\n",
      "第163篇：30，30\n",
      "第164篇：30，30\n",
      "第165篇：1，1\n",
      "第166篇：30，30\n",
      "第167篇：1，1\n",
      "第168篇：1，1\n",
      "第169篇：1，1\n",
      "第170篇：1，1\n",
      "第171篇：1，1\n",
      "第172篇：1，1\n",
      "第173篇：30，30\n",
      "第174篇：30，30\n",
      "第175篇：30，30\n",
      "第176篇：30，30\n",
      "第177篇：30，30\n",
      "第178篇：30，30\n",
      "第179篇：30，30\n",
      "第180篇：1，1\n",
      "第181篇：30，30\n",
      "第182篇：29，30\n",
      "第183篇：30，30\n",
      "第184篇：30，30\n",
      "第185篇：30，30\n",
      "第186篇：1，1\n",
      "第187篇：30，30\n",
      "第188篇：1，1\n",
      "第189篇：30，30\n",
      "第190篇：1，1\n",
      "第191篇：30，30\n",
      "第192篇：30，30\n",
      "第193篇：30，30\n",
      "第194篇：30，30\n",
      "第195篇：28，30\n",
      "第196篇：12，30\n",
      "第197篇：30，30\n",
      "第198篇：1，1\n",
      "第199篇：30，30\n",
      "第200篇：12，30\n",
      "第201篇：30，30\n",
      "第202篇：10，30\n",
      "第203篇：8，30\n",
      "第204篇：30，30\n",
      "第205篇：30，30\n",
      "第206篇：8，30\n",
      "第207篇：30，30\n",
      "第208篇：30，30\n",
      "第209篇：30，30\n",
      "第210篇：30，30\n",
      "第211篇：30，30\n",
      "第212篇：30，30\n",
      "第213篇：30，30\n",
      "第214篇：1，1\n",
      "第215篇：20，30\n",
      "第216篇：30，30\n",
      "第217篇：30，30\n",
      "第218篇：30，30\n",
      "第219篇：1，1\n",
      "第220篇：1，1\n",
      "第221篇：30，30\n",
      "第222篇：30，30\n",
      "第223篇：30，30\n",
      "第224篇：30，30\n",
      "第225篇：30，30\n",
      "第226篇：30，30\n",
      "第227篇：30，30\n",
      "第228篇：30，30\n",
      "第229篇：30，30\n",
      "第230篇：29，30\n",
      "第231篇：30，30\n",
      "第232篇：30，30\n",
      "第233篇：1，1\n",
      "第234篇：22，30\n",
      "第235篇：30，30\n",
      "第236篇：30，30\n",
      "第237篇：1，1\n",
      "第238篇：30，30\n",
      "第239篇：30，30\n",
      "第240篇：30，30\n",
      "第241篇：30，30\n",
      "第242篇：30，30\n",
      "第243篇：1，1\n",
      "第244篇：1，1\n",
      "第245篇：30，30\n",
      "第246篇：30，30\n",
      "第247篇：30，30\n",
      "第248篇：30，30\n",
      "第249篇：30，30\n",
      "第250篇：30，30\n",
      "第251篇：30，30\n",
      "第252篇：1，1\n",
      "第253篇：1，1\n",
      "第254篇：30，30\n",
      "第255篇：30，30\n",
      "第256篇：30，30\n",
      "第257篇：30，30\n",
      "第258篇：30，30\n",
      "第259篇：30，30\n",
      "第260篇：30，30\n",
      "第261篇：30，30\n",
      "第262篇：1，1\n",
      "第263篇：30，30\n",
      "第264篇：30，30\n",
      "第265篇：29，30\n",
      "第266篇：30，30\n",
      "第267篇：30，30\n",
      "第268篇：30，30\n",
      "第269篇：30，30\n",
      "第270篇：30，30\n",
      "第271篇：30，30\n",
      "第272篇：30，30\n",
      "第273篇：30，30\n",
      "第274篇：1，1\n",
      "第275篇：30，30\n",
      "第276篇：30，30\n",
      "第277篇：30，30\n",
      "第278篇：30，30\n",
      "第279篇：30，30\n",
      "第280篇：30，30\n",
      "第281篇：30，30\n",
      "第282篇：30，30\n",
      "第283篇：1，1\n",
      "第284篇：1，1\n",
      "第285篇：30，30\n",
      "第286篇：30，30\n",
      "第287篇：30，30\n",
      "第288篇：30，30\n",
      "第289篇：30，30\n",
      "第290篇：30，30\n",
      "第291篇：30，30\n",
      "第292篇：30，30\n",
      "第293篇：30，28\n",
      "第294篇：30，30\n",
      "第295篇：7，30\n",
      "第296篇：30，30\n",
      "第297篇：30，30\n",
      "第298篇：30，30\n",
      "第299篇：30，30\n",
      "第300篇：30，30\n",
      "第301篇：11，30\n",
      "第302篇：30，30\n",
      "第303篇：30，30\n",
      "第304篇：18，30\n",
      "第305篇：30，30\n",
      "第306篇：15，30\n",
      "第307篇：30，30\n",
      "第308篇：30，30\n",
      "第309篇：30，30\n",
      "第310篇：30，30\n",
      "第311篇：30，26\n",
      "第312篇：14，30\n",
      "第313篇：30，30\n",
      "第314篇：1，1\n",
      "第315篇：30，30\n",
      "第316篇：30，30\n",
      "第317篇：30，30\n",
      "第318篇：30，30\n",
      "第319篇：30，30\n",
      "第320篇：8，30\n",
      "第321篇：30，18\n",
      "第322篇：30，30\n",
      "第323篇：1，1\n",
      "第324篇：30，30\n",
      "第325篇：1，1\n",
      "第326篇：30，30\n",
      "第327篇：30，30\n",
      "第328篇：30，30\n",
      "第329篇：30，30\n",
      "第330篇：30，30\n",
      "第331篇：30，30\n",
      "第332篇：1，1\n",
      "第333篇：1，1\n",
      "第334篇：30，30\n",
      "第335篇：1，1\n",
      "第336篇：30，30\n",
      "第337篇：30，30\n",
      "第338篇：1，1\n",
      "第339篇：1，1\n",
      "第340篇：30，30\n",
      "第341篇：30，30\n",
      "第342篇：30，30\n",
      "第343篇：30，30\n",
      "第344篇：30，30\n",
      "第345篇：1，1\n",
      "第346篇：27，30\n",
      "第347篇：30，30\n"
     ]
    }
   ],
   "source": [
    "for i in range(0,len(comment_list)):\n",
    "    print(f'第{i}篇：{len(comment_list[i][0])}，{len(comment_list[i][1])}')"
   ]
  },
  {
   "cell_type": "code",
   "execution_count": 103,
   "metadata": {},
   "outputs": [],
   "source": [
    "c1=[]\n",
    "c2=[]\n",
    "for i in comment_list[:-1]:\n",
    "    if i !='error':\n",
    "        c1.append(pd.DataFrame({'最相關留言':i[0]}))\n",
    "        c2.append(pd.DataFrame({'最新留言':i[1]}))\n",
    "\n",
    "        "
   ]
  },
  {
   "cell_type": "code",
   "execution_count": 118,
   "metadata": {},
   "outputs": [
    {
     "data": {
      "text/html": [
       "<div>\n",
       "<style scoped>\n",
       "    .dataframe tbody tr th:only-of-type {\n",
       "        vertical-align: middle;\n",
       "    }\n",
       "\n",
       "    .dataframe tbody tr th {\n",
       "        vertical-align: top;\n",
       "    }\n",
       "\n",
       "    .dataframe thead th {\n",
       "        text-align: right;\n",
       "    }\n",
       "</style>\n",
       "<table border=\"1\" class=\"dataframe\">\n",
       "  <thead>\n",
       "    <tr style=\"text-align: right;\">\n",
       "      <th></th>\n",
       "      <th>最新留言</th>\n",
       "    </tr>\n",
       "  </thead>\n",
       "  <tbody>\n",
       "    <tr>\n",
       "      <th>0</th>\n",
       "      <td>你好:如果您未來當選高雄市長，可否請您取消（單親需審三代）這種繆法?我是個單親媽媽，從100...</td>\n",
       "    </tr>\n",
       "    <tr>\n",
       "      <th>1</th>\n",
       "      <td>韓先生：我是在地高雄人，在高雄生活打拼許久也娶妻生子我見過繁榮的尾巴，也看到現今的淒涼，明年...</td>\n",
       "    </tr>\n",
       "    <tr>\n",
       "      <th>2</th>\n",
       "      <td>支持韓國瑜.拋藍綠悪鬥.改造高雄更好！</td>\n",
       "    </tr>\n",
       "    <tr>\n",
       "      <th>3</th>\n",
       "      <td>莫忘初衷</td>\n",
       "    </tr>\n",
       "    <tr>\n",
       "      <th>4</th>\n",
       "      <td>加油、希望你 是清 流、</td>\n",
       "    </tr>\n",
       "    <tr>\n",
       "      <th>...</th>\n",
       "      <td>...</td>\n",
       "    </tr>\n",
       "    <tr>\n",
       "      <th>25</th>\n",
       "      <td>神力女超人太美了</td>\n",
       "    </tr>\n",
       "    <tr>\n",
       "      <th>26</th>\n",
       "      <td>沒聲音</td>\n",
       "    </tr>\n",
       "    <tr>\n",
       "      <th>27</th>\n",
       "      <td>太棒了</td>\n",
       "    </tr>\n",
       "    <tr>\n",
       "      <th>28</th>\n",
       "      <td>韓國瑜凍蒜</td>\n",
       "    </tr>\n",
       "    <tr>\n",
       "      <th>29</th>\n",
       "      <td>台湾岛的组织能力也还不错耶，这么多人</td>\n",
       "    </tr>\n",
       "  </tbody>\n",
       "</table>\n",
       "<p>7962 rows × 1 columns</p>\n",
       "</div>"
      ],
      "text/plain": [
       "                                                 最新留言\n",
       "0   你好:如果您未來當選高雄市長，可否請您取消（單親需審三代）這種繆法?我是個單親媽媽，從100...\n",
       "1   韓先生：我是在地高雄人，在高雄生活打拼許久也娶妻生子我見過繁榮的尾巴，也看到現今的淒涼，明年...\n",
       "2                                 支持韓國瑜.拋藍綠悪鬥.改造高雄更好！\n",
       "3                                                莫忘初衷\n",
       "4                                        加油、希望你 是清 流、\n",
       "..                                                ...\n",
       "25                                           神力女超人太美了\n",
       "26                                                沒聲音\n",
       "27                                                太棒了\n",
       "28                                              韓國瑜凍蒜\n",
       "29                                 台湾岛的组织能力也还不错耶，这么多人\n",
       "\n",
       "[7962 rows x 1 columns]"
      ]
     },
     "execution_count": 118,
     "metadata": {},
     "output_type": "execute_result"
    }
   ],
   "source": [
    "pd.concat(c2)"
   ]
  },
  {
   "cell_type": "code",
   "execution_count": 119,
   "metadata": {},
   "outputs": [],
   "source": [
    "relate_df=pd.concat(c1)\n",
    "latest_df=pd.concat(c2)"
   ]
  },
  {
   "cell_type": "code",
   "execution_count": 121,
   "metadata": {},
   "outputs": [],
   "source": [
    "relate_df.to_excel('韓國瑜-最相關留言.xlsx')\n",
    "latest_df.to_excel('韓國瑜-最新留言.xlsx')"
   ]
  },
  {
   "cell_type": "code",
   "execution_count": 98,
   "metadata": {},
   "outputs": [
    {
     "data": {
      "text/plain": [
       "False"
      ]
     },
     "execution_count": 98,
     "metadata": {},
     "output_type": "execute_result"
    }
   ],
   "source": [
    "comment_list[338]!='error'"
   ]
  },
  {
   "cell_type": "markdown",
   "metadata": {},
   "source": [
    "## 相關"
   ]
  },
  {
   "cell_type": "code",
   "execution_count": 92,
   "metadata": {},
   "outputs": [],
   "source": [
    "url=df['網址'][147]\n",
    "driver.get(url)"
   ]
  },
  {
   "cell_type": "code",
   "execution_count": 80,
   "metadata": {},
   "outputs": [],
   "source": [
    "w1='div.'+'oajrlxb2 g5ia77u1 qu0x051f esr5mh6w e9989ue4 r7d6kgcz rq0escxv nhd2j8a9 nc684nl6 p7hjln8o kvgmc6g5 cxmmr5t8 oygrvhab hcukyx3x jb3vyjys rz4wbd8a qt6c0cv9 a8nywdso i1ao9s8h esuyzwwr f1sip0of lzcic4wl oo9gr5id gpro0wi8 lrazzd5p'.replace(' ','.')\n",
    "element1=driver.find_elements_by_css_selector(w1)"
   ]
  },
  {
   "cell_type": "code",
   "execution_count": 81,
   "metadata": {},
   "outputs": [],
   "source": [
    "for i in element1:\n",
    "    try:\n",
    "        i.click()\n",
    "    except:\n",
    "        pass"
   ]
  },
  {
   "cell_type": "code",
   "execution_count": 82,
   "metadata": {},
   "outputs": [],
   "source": [
    "htmltext = driver.page_source\n",
    "soup = BeautifulSoup(htmltext,\"lxml\")"
   ]
  },
  {
   "cell_type": "code",
   "execution_count": 83,
   "metadata": {},
   "outputs": [],
   "source": [
    "relative_comment=soup.find_all('div',attrs={'class':'kvgmc6g5 cxmmr5t8 oygrvhab hcukyx3x c1et5uql'})[0:30]"
   ]
  },
  {
   "cell_type": "code",
   "execution_count": 84,
   "metadata": {},
   "outputs": [],
   "source": [
    "relate=[]\n",
    "for i in relative_comment:\n",
    "    relate.append(i.text)"
   ]
  },
  {
   "cell_type": "code",
   "execution_count": 85,
   "metadata": {},
   "outputs": [
    {
     "data": {
      "text/plain": [
       "[]"
      ]
     },
     "execution_count": 85,
     "metadata": {},
     "output_type": "execute_result"
    }
   ],
   "source": [
    "relate"
   ]
  },
  {
   "cell_type": "markdown",
   "metadata": {},
   "source": [
    "# 最新"
   ]
  },
  {
   "cell_type": "code",
   "execution_count": 19,
   "metadata": {},
   "outputs": [],
   "source": [
    "js=\"var q=document.documentElement.scrollTop=0\"  \n",
    "driver.execute_script(js)\n",
    "time.sleep(3)"
   ]
  },
  {
   "cell_type": "code",
   "execution_count": 30,
   "metadata": {},
   "outputs": [],
   "source": [
    "#點擊最相關\n",
    "w2='div.'+'oajrlxb2 g5ia77u1 qu0x051f esr5mh6w e9989ue4 r7d6kgcz rq0escxv nhd2j8a9 nc684nl6 p7hjln8o kvgmc6g5 cxmmr5t8 oygrvhab hcukyx3x jb3vyjys rz4wbd8a qt6c0cv9 a8nywdso i1ao9s8h esuyzwwr f1sip0of lzcic4wl l9j0dhe7 abiwlrkh p8dawk7l'.replace(' ','.')\n",
    "element2=driver.find_elements_by_css_selector(w2)"
   ]
  },
  {
   "cell_type": "code",
   "execution_count": null,
   "metadata": {},
   "outputs": [],
   "source": []
  },
  {
   "cell_type": "code",
   "execution_count": 33,
   "metadata": {},
   "outputs": [],
   "source": [
    "element2[1].click()"
   ]
  },
  {
   "cell_type": "code",
   "execution_count": 22,
   "metadata": {},
   "outputs": [],
   "source": [
    "#按最新\n",
    "w3='span.'+'d2edcug0 hpfvmrgz qv66sw1b c1et5uql lr9zc1uh a8c37x1j keod5gw0 nxhoafnm aigsh9s9 d3f4x2em fe6kdd0r mau55g9w c8b282yb iv3no6db jq4qci2q a3bd9o3v ekzkrbhg oo9gr5id hzawbc8m'.replace(' ','.')\n",
    "element3=driver.find_elements_by_css_selector(w3)\n",
    "element3[1].click()"
   ]
  },
  {
   "cell_type": "code",
   "execution_count": null,
   "metadata": {},
   "outputs": [],
   "source": []
  },
  {
   "cell_type": "code",
   "execution_count": 282,
   "metadata": {},
   "outputs": [],
   "source": [
    "#w4='div.'+'oajrlxb2 g5ia77u1 qu0x051f esr5mh6w e9989ue4 r7d6kgcz rq0escxv nhd2j8a9 nc684nl6 p7hjln8o kvgmc6g5 cxmmr5t8 oygrvhab hcukyx3x jb3vyjys rz4wbd8a qt6c0cv9 a8nywdso i1ao9s8h esuyzwwr f1sip0of lzcic4wl oo9gr5id gpro0wi8 lrazzd5p'.replace(' ','.')"
   ]
  },
  {
   "cell_type": "code",
   "execution_count": 23,
   "metadata": {},
   "outputs": [],
   "source": [
    "w4='div.'+'j83agx80 bkfpd7mw jb3vyjys hv4rvrfc qt6c0cv9 dati1w0a l9j0dhe7'.replace(' ','.')\n",
    "element4=driver.find_elements_by_css_selector(w4)\n",
    "element4[1].click()"
   ]
  },
  {
   "cell_type": "code",
   "execution_count": 24,
   "metadata": {},
   "outputs": [],
   "source": [
    "w1='div.'+'oajrlxb2 g5ia77u1 qu0x051f esr5mh6w e9989ue4 r7d6kgcz rq0escxv nhd2j8a9 nc684nl6 p7hjln8o kvgmc6g5 cxmmr5t8 oygrvhab hcukyx3x jb3vyjys rz4wbd8a qt6c0cv9 a8nywdso i1ao9s8h esuyzwwr f1sip0of lzcic4wl oo9gr5id gpro0wi8 lrazzd5p'.replace(' ','.')\n",
    "element1=driver.find_elements_by_css_selector(w1)"
   ]
  },
  {
   "cell_type": "code",
   "execution_count": 25,
   "metadata": {},
   "outputs": [],
   "source": [
    "for i in element1:\n",
    "    try:\n",
    "        i.click()\n",
    "    except:\n",
    "        pass"
   ]
  },
  {
   "cell_type": "code",
   "execution_count": 197,
   "metadata": {},
   "outputs": [],
   "source": []
  },
  {
   "cell_type": "code",
   "execution_count": 26,
   "metadata": {},
   "outputs": [],
   "source": [
    "htmltext2 = driver.page_source\n",
    "soup2 = BeautifulSoup(htmltext2,\"lxml\")"
   ]
  },
  {
   "cell_type": "code",
   "execution_count": 27,
   "metadata": {},
   "outputs": [],
   "source": [
    "latest_comment=soup2.find_all('div',attrs={'class':'kvgmc6g5 cxmmr5t8 oygrvhab hcukyx3x c1et5uql'})[0:30]"
   ]
  },
  {
   "cell_type": "code",
   "execution_count": 28,
   "metadata": {},
   "outputs": [],
   "source": [
    "latest=[]\n",
    "for i in latest_comment:\n",
    "    latest.append(i.text)"
   ]
  },
  {
   "cell_type": "code",
   "execution_count": 29,
   "metadata": {},
   "outputs": [
    {
     "data": {
      "text/plain": [
       "['一群耳朵包皮的假道學',\n",
       " '韓總加油！',\n",
       " '沒說開賭場，設立免稅區。講那麼多遍了。',\n",
       " '這些人很好笑⋯⋯沒能力還領薪水....',\n",
       " '開賭場也要經過中央同意；你們為什麼要反對？當年陳菊也有說，不要忘記',\n",
       " '民進黨，只會抹黑，給我們滾下台，可惡的政黨。',\n",
       " '你們民進黨的政見才不可思議',\n",
       " '你們都是敗壞祖先的庇佑的笨子孫救經濟！你有銭嗎？借貸的我比你還要會。民黨。',\n",
       " '我光看到第一句我就不想看了 ',\n",
       " '可以先還給我們高雄20年的青春嗎',\n",
       " '最無良的就是民進黨.把台灣孩子試圖強制教學.敗壞社會風氣',\n",
       " '翻轉高雄全高雄人的驕傲',\n",
       " '看看民進黨都是那副嘴臉',\n",
       " '睜眼說瞎話！',\n",
       " '沒錢吃地瓜，11/24~一定打敗人參78',\n",
       " '小綠綠講幹話',\n",
       " '民X黨，除了攻擊。抹黑再抹黑。這種選舉，就是臺灣文化。大家苦哈哈，不拼經濟，阿狗阿貓，對付一個人。會不會太閒。',\n",
       " '耳朵都哈',\n",
       " '不要再抹黑，奧步一大堆',\n",
       " '韓市長凍蒜',\n",
       " '抹黑功力⋯⋯越來越厲害',\n",
       " '懇請台灣朋友在1018前，號召親朋好友去韓總FB按讚，一人拉五個讓按讚破百萬破百萬破百萬，拜託拜托再拜託https://www.facebook.com/twherohan/',\n",
       " '引用~歐巴馬批評當今政治人物善於「瞎掰」，被逮到也不覺羞愧。他說：「有些政治領袖被逮到說謊後，往往再加碼說謊，可說恬不知恥。」',\n",
       " '赌城是唯一高雄的翻身机会',\n",
       " '我支持雙語教學~加油翻轉高雄',\n",
       " '廢話少說先交代近三仟億怎么還，你們這些共犯',\n",
       " '如果民進黨真知道問題在哪 那又為什麼 經濟提升不起來?',\n",
       " '看看綠蛆這些嘴臉，一付就是想貪 愛貪 貪而無厭的臉',\n",
       " '滿期待 旗津變更賭場觀光業。。。找不到 怎麼好的地方了 旗津要發了。。。恭喜',\n",
       " '亂叫的']"
      ]
     },
     "execution_count": 29,
     "metadata": {},
     "output_type": "execute_result"
    }
   ],
   "source": [
    "latest"
   ]
  },
  {
   "cell_type": "code",
   "execution_count": 294,
   "metadata": {},
   "outputs": [],
   "source": [
    "comments=[relate,latest]"
   ]
  },
  {
   "cell_type": "code",
   "execution_count": 99,
   "metadata": {},
   "outputs": [],
   "source": [
    "import jieba\n",
    "import nltk\n",
    "from wordcloud import WordCloud\n"
   ]
  },
  {
   "cell_type": "code",
   "execution_count": 32,
   "metadata": {},
   "outputs": [],
   "source": [
    "#words"
   ]
  },
  {
   "cell_type": "code",
   "execution_count": 100,
   "metadata": {},
   "outputs": [],
   "source": [
    "text = ' '.join(nltk.word_tokenize(words))"
   ]
  },
  {
   "cell_type": "code",
   "execution_count": 101,
   "metadata": {},
   "outputs": [],
   "source": [
    "text2=''\n",
    "for i in text.split(' '):\n",
    "    if len(i)>1:\n",
    "        if i  not in [\"'s\",\"n't\",'people','CNN','will','say','u','one','Covid','vaccine','vaccinated','now','new','time']:\n",
    "            text2+=i+' '"
   ]
  },
  {
   "cell_type": "code",
   "execution_count": 18,
   "metadata": {
    "scrolled": false
   },
   "outputs": [],
   "source": [
    "#text2"
   ]
  },
  {
   "cell_type": "code",
   "execution_count": 152,
   "metadata": {},
   "outputs": [],
   "source": [
    "#text"
   ]
  },
  {
   "cell_type": "code",
   "execution_count": 102,
   "metadata": {},
   "outputs": [],
   "source": [
    "cloud = WordCloud().generate(text2)"
   ]
  },
  {
   "cell_type": "code",
   "execution_count": 103,
   "metadata": {},
   "outputs": [
    {
     "data": {
      "text/plain": [
       "<wordcloud.wordcloud.WordCloud at 0x171a66c02e0>"
      ]
     },
     "execution_count": 103,
     "metadata": {},
     "output_type": "execute_result"
    }
   ],
   "source": [
    "cloud.to_file('相關4.png')"
   ]
  },
  {
   "cell_type": "code",
   "execution_count": 170,
   "metadata": {},
   "outputs": [],
   "source": [
    "text2=''\n",
    "for i in text.split(' '):\n",
    "    if len(i)>1:\n",
    "        if i  not in [\"'s\",\"n't\",'people','CNN','will','say','u','one','Covid','vaccine','vaccinated','now','new','time','vote','election','Trump','country','President','need','America','American','stand','know','Republican','you','going']:\n",
    "            text2+=i+' '"
   ]
  },
  {
   "cell_type": "code",
   "execution_count": 171,
   "metadata": {},
   "outputs": [],
   "source": [
    "cloud = WordCloud().generate(text2)"
   ]
  },
  {
   "cell_type": "code",
   "execution_count": 172,
   "metadata": {},
   "outputs": [
    {
     "data": {
      "text/plain": [
       "<wordcloud.wordcloud.WordCloud at 0x171a9ff5f70>"
      ]
     },
     "execution_count": 172,
     "metadata": {},
     "output_type": "execute_result"
    }
   ],
   "source": [
    "cloud.to_file('相關7.png')"
   ]
  },
  {
   "cell_type": "markdown",
   "metadata": {},
   "source": [
    "# 相關"
   ]
  },
  {
   "cell_type": "code",
   "execution_count": 121,
   "metadata": {},
   "outputs": [],
   "source": [
    "#c=\"oajrlxb2 g5ia77u1 qu0x051f esr5mh6w e9989ue4 r7d6kgcz rq0escxv nhd2j8a9 nc684nl6 p7hjln8o kvgmc6g5 cxmmr5t8 oygrvhab hcukyx3x jb3vyjys rz4wbd8a qt6c0cv9 a8nywdso i1ao9s8h esuyzwwr f1sip0of lzcic4wl l9j0dhe7 abiwlrkh p8dawk7l\".replace(' ','.')\n",
    "#k='div.'+c\n",
    "#element=driver.find_elements_by_css_selector(k)\n",
    "c=\"oajrlxb2 g5ia77u1 qu0x051f esr5mh6w e9989ue4 r7d6kgcz rq0escxv nhd2j8a9 nc684nl6 p7hjln8o kvgmc6g5 cxmmr5t8 oygrvhab hcukyx3x jb3vyjys rz4wbd8a qt6c0cv9 a8nywdso i1ao9s8h esuyzwwr f1sip0of lzcic4wl l9j0dhe7 abiwlrkh p8dawk7l\".replace(' ','.')\n",
    "k='div.'+c\n",
    "element=driver.find_elements_by_css_selector(k)"
   ]
  },
  {
   "cell_type": "code",
   "execution_count": 122,
   "metadata": {},
   "outputs": [
    {
     "data": {
      "text/plain": [
       "612"
      ]
     },
     "execution_count": 122,
     "metadata": {},
     "output_type": "execute_result"
    }
   ],
   "source": [
    "len(element)"
   ]
  },
  {
   "cell_type": "code",
   "execution_count": 124,
   "metadata": {},
   "outputs": [],
   "source": [
    "for i in element:\n",
    "    try:\n",
    "        i.click()\n",
    "        element2=driver.find_elements_by_css_selector('div.oajrlxb2.g5ia77u1.qu0x051f.esr5mh6w.e9989ue4.r7d6kgcz.rq0escxv.nhd2j8a9.j83agx80.p7hjln8o.kvgmc6g5.oi9244e8.oygrvhab.h676nmdw.pybr56ya.dflh9lhu.f10w8fjw.scb9dxdr.i1ao9s8h.esuyzwwr.f1sip0of.lzcic4wl.l9j0dhe7.abiwlrkh.p8dawk7l.bp9cbjyn.dwo3fsh8.btwxx1t3.pfnyh3mw.du4w35lb')\n",
    "        element2[1].click()\n",
    "    except:\n",
    "        pass\n"
   ]
  },
  {
   "cell_type": "code",
   "execution_count": 139,
   "metadata": {},
   "outputs": [],
   "source": [
    "element3=driver.find_elements_by_css_selector(w2)"
   ]
  },
  {
   "cell_type": "code",
   "execution_count": 140,
   "metadata": {},
   "outputs": [],
   "source": [
    "for i in element3:\n",
    "    try:\n",
    "        i.click()\n",
    "    except:\n",
    "        pass"
   ]
  },
  {
   "cell_type": "code",
   "execution_count": 141,
   "metadata": {},
   "outputs": [],
   "source": [
    "htmltext2 = driver.page_source\n",
    "soup2 = BeautifulSoup(htmltext,\"lxml\")"
   ]
  },
  {
   "cell_type": "code",
   "execution_count": 142,
   "metadata": {},
   "outputs": [],
   "source": [
    "#建立dataframe存reply\n",
    "#df = pd.DataFrame(columns=['reply'])\n",
    "words2=''\n",
    "#reply=[]\n",
    "#第一層留言者與發言內容寫入df\n",
    "out=soup2.find_all('div',attrs={'class':'kvgmc6g5 cxmmr5t8 oygrvhab hcukyx3x c1et5uql'})\n",
    "for i in out:\n",
    "    words2=words2+i.text\n"
   ]
  },
  {
   "cell_type": "code",
   "execution_count": 35,
   "metadata": {},
   "outputs": [],
   "source": [
    "#words2"
   ]
  },
  {
   "cell_type": "code",
   "execution_count": 143,
   "metadata": {},
   "outputs": [],
   "source": [
    "text3 = ' '.join(nltk.word_tokenize(words2))"
   ]
  },
  {
   "cell_type": "code",
   "execution_count": null,
   "metadata": {},
   "outputs": [],
   "source": []
  },
  {
   "cell_type": "code",
   "execution_count": 144,
   "metadata": {},
   "outputs": [],
   "source": [
    "text4=''\n",
    "for i in text3.split(' '):\n",
    "    if len(i)>1:\n",
    "        if i  not in [\"'s\",\"n't\",'people','CNN','will','say','u','one','Covid','vaccine','vaccinated','now','new','time']:\n",
    "            text4+=i+' '"
   ]
  },
  {
   "cell_type": "code",
   "execution_count": 145,
   "metadata": {},
   "outputs": [],
   "source": [
    "cloud2 = WordCloud().generate(text4)"
   ]
  },
  {
   "cell_type": "code",
   "execution_count": 146,
   "metadata": {},
   "outputs": [
    {
     "data": {
      "text/plain": [
       "<wordcloud.wordcloud.WordCloud at 0x171aec42a60>"
      ]
     },
     "execution_count": 146,
     "metadata": {},
     "output_type": "execute_result"
    }
   ],
   "source": [
    "cloud2.to_file('最新4.png')"
   ]
  },
  {
   "cell_type": "code",
   "execution_count": 166,
   "metadata": {},
   "outputs": [],
   "source": [
    "text4=''\n",
    "for i in text3.split(' '):\n",
    "    if len(i)>1:\n",
    "        if i  not in [\"'s\",\"n't\",'people','CNN','will','say','u','one','Covid','vaccine','vaccinated','now','new','time','vote','election','Trump','country','President','need','America','American','stand','know','Republican','you','going']:\n",
    "            text4+=i+' '"
   ]
  },
  {
   "cell_type": "code",
   "execution_count": 167,
   "metadata": {},
   "outputs": [],
   "source": [
    "#text4"
   ]
  },
  {
   "cell_type": "code",
   "execution_count": 168,
   "metadata": {},
   "outputs": [],
   "source": [
    "cloud2 = WordCloud().generate(text4)"
   ]
  },
  {
   "cell_type": "code",
   "execution_count": 169,
   "metadata": {},
   "outputs": [
    {
     "data": {
      "text/plain": [
       "<wordcloud.wordcloud.WordCloud at 0x171a9ff5a60>"
      ]
     },
     "execution_count": 169,
     "metadata": {},
     "output_type": "execute_result"
    }
   ],
   "source": [
    "cloud2.to_file('最新7.png')"
   ]
  }
 ],
 "metadata": {
  "kernelspec": {
   "display_name": "Python 3",
   "language": "python",
   "name": "python3"
  },
  "language_info": {
   "codemirror_mode": {
    "name": "ipython",
    "version": 3
   },
   "file_extension": ".py",
   "mimetype": "text/x-python",
   "name": "python",
   "nbconvert_exporter": "python",
   "pygments_lexer": "ipython3",
   "version": "3.8.5"
  }
 },
 "nbformat": 4,
 "nbformat_minor": 4
}
