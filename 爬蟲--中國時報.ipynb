{
 "cells": [
  {
   "cell_type": "code",
   "execution_count": 1,
   "metadata": {},
   "outputs": [],
   "source": [
    "import requests\n",
    "from bs4 import BeautifulSoup\n",
    "import time\n",
    "import random\n",
    "import string\n",
    "import numpy as np\n",
    "import pandas as pd\n",
    "import datetime\n",
    "from selenium import webdriver\n",
    "from selenium.webdriver.chrome.options import Options"
   ]
  },
  {
   "cell_type": "code",
   "execution_count": 2,
   "metadata": {},
   "outputs": [],
   "source": [
    "def google_search(x,n):\n",
    "    driver = webdriver.Chrome('chromedriver')\n",
    "    driver.get(f'https://www.google.com/search?q={x}')\n",
    "    next_page_times = n\n",
    "    http=[]\n",
    "    for _page in range(next_page_times):\n",
    "    \n",
    "        soup = BeautifulSoup(driver.page_source,'html.parser')\n",
    "        items=soup.find_all('div', attrs={'class':'yuRUbf'})\n",
    "\n",
    "        for i in items:\n",
    "            # 網址\n",
    "            h=i.find('a')['href']\n",
    "            if 'cdc.gov.tw' in h :\n",
    "                pass\n",
    "            else:\n",
    "                http.append(h)\n",
    "        # Wait\n",
    "        time.sleep(random.uniform(1, 5))\n",
    "\n",
    "        # Turn to the next page\n",
    "        try:\n",
    "            driver.find_element_by_link_text('下一頁').click()\n",
    "        except:\n",
    "            print('Search Early Stopping.')\n",
    "            break\n",
    "    driver.close()\n",
    "    return http"
   ]
  },
  {
   "cell_type": "code",
   "execution_count": 3,
   "metadata": {},
   "outputs": [],
   "source": [
    "def count_word(x):\n",
    "    chinese=[]\n",
    "    english=[]\n",
    "    number=[]\n",
    "    en=''\n",
    "    num=''\n",
    "    for i in list(x):\n",
    "\n",
    "        if i in string.ascii_letters:\n",
    "            en+=i\n",
    "        elif i.isdigit():\n",
    "            num+=i\n",
    "        else:\n",
    "            if en !='':\n",
    "                english.append(en)\n",
    "            if num!='':\n",
    "                number.append(num)\n",
    "            en=''\n",
    "            num=''\n",
    "            if i !=' ':\n",
    "                chinese.append(i)\n",
    "    words=len(english)+len(chinese)+len(number)\n",
    "    return words"
   ]
  },
  {
   "cell_type": "code",
   "execution_count": 4,
   "metadata": {},
   "outputs": [],
   "source": [
    "def chinatime(x):\n",
    "    china=BeautifulSoup(x.text, 'html.parser')\n",
    "    #標題\n",
    "    try:\n",
    "        titles=china.find('h1',attrs={'class':'article-title'}).text\n",
    "    except:\n",
    "        titles='Error'\n",
    "    #日期\n",
    "    try:\n",
    "        date=china.find('meta', property=\"article:published_time\")['content'][0:10]\n",
    "    except :\n",
    "        date='Error'\n",
    "    #記者\n",
    "    try:\n",
    "        author=china.find('div',attrs={'class':'author'}).text\n",
    "        author=author.replace('\\n','')\n",
    "        author=author.replace(' ','')\n",
    "    except:\n",
    "        author='Error'\n",
    "    #類別\n",
    "    try:\n",
    "        sention=china.find('meta',attrs={'property':'article:section'})['content']\n",
    "    except:\n",
    "        sention='Error'\n",
    "    #內文\n",
    "    try:\n",
    "        content=china.find('div',attrs={'class':'article-body'}).text\n",
    "        content=content.replace('\\n','')\n",
    "        k=content.rfind('。')\n",
    "        content=content[:k+1]\n",
    "    except:\n",
    "        content='Error'\n",
    "    #字數\n",
    "    try:\n",
    "        words=count_word(content)\n",
    "    except:\n",
    "        words='Error'\n",
    "    try:\n",
    "        #圖片數\n",
    "        n_p=len(china.find_all('div',attrs={'class':'photo-container'}))\n",
    "        #影片數\n",
    "        v_p=len(china.find_all('div',attrs={'class':'article-body','class':'video-container'}))\n",
    "        ##加起來\n",
    "        if v_p !=0:\n",
    "            all_p=f'{n_p}（+{v_p}影片）'\n",
    "        else:\n",
    "            all_p=n_p\n",
    "    except:\n",
    "        all_p='Error'\n",
    "    if '疫苗' in content :\n",
    "        return ['','',author,'',sention,date,titles,content,'','','','','',words,'',all_p,'']\n",
    "    elif content=='錯誤' :\n",
    "        return ['','',author,'',sention,date,titles,content,'','','','','',words,'',all_p,'']\n",
    "    if words==1:\n",
    "        return ['','',author,'',sention,date,titles,content,'','','','','',words,'',all_p,'']\n",
    "    else:\n",
    "        return['','','','','','','','','','','','','','','','','']"
   ]
  },
  {
   "cell_type": "code",
   "execution_count": 5,
   "metadata": {},
   "outputs": [],
   "source": [
    "def web_crawl(x,n): \n",
    "    http=google_search(x,n)\n",
    "    china_time=[]\n",
    "    for i in range(0,len(http)):\n",
    "        china_time.append(requests.get(http[i]))\n",
    "        time.sleep(random.uniform(1, 5))\n",
    "    china_time_result=list(map(chinatime,china_time))\n",
    "    chinatime_df=pd.DataFrame(china_time_result)\n",
    "    chinatime_df=chinatime_df.rename(index=str,columns={0:'',1:'',2:'作者',3:'',4:'記者路線',5:'日期',6:'標題',7:'內文',8:'',9:'',10:'',11:'',12:'',13:'字數',14:'',15:\"附圖（幀）\",16:''})\n",
    "    chinatime_df['網址']=http\n",
    "    chinatime_df=chinatime_df[chinatime_df.標題!='']\n",
    "    return chinatime_df"
   ]
  },
  {
   "cell_type": "code",
   "execution_count": 6,
   "metadata": {},
   "outputs": [
    {
     "name": "stdout",
     "output_type": "stream",
     "text": [
      "Search Early Stopping.\n"
     ]
    }
   ],
   "source": [
    "df=web_crawl('疫苗 after:2021-07-08 before:2021-07-10 site:chinatimes.com',21)"
   ]
  },
  {
   "cell_type": "code",
   "execution_count": 7,
   "metadata": {},
   "outputs": [
    {
     "data": {
      "text/html": [
       "<div>\n",
       "<style scoped>\n",
       "    .dataframe tbody tr th:only-of-type {\n",
       "        vertical-align: middle;\n",
       "    }\n",
       "\n",
       "    .dataframe tbody tr th {\n",
       "        vertical-align: top;\n",
       "    }\n",
       "\n",
       "    .dataframe thead th {\n",
       "        text-align: right;\n",
       "    }\n",
       "</style>\n",
       "<table border=\"1\" class=\"dataframe\">\n",
       "  <thead>\n",
       "    <tr style=\"text-align: right;\">\n",
       "      <th></th>\n",
       "      <th></th>\n",
       "      <th></th>\n",
       "      <th>作者</th>\n",
       "      <th></th>\n",
       "      <th>記者路線</th>\n",
       "      <th>日期</th>\n",
       "      <th>標題</th>\n",
       "      <th>內文</th>\n",
       "      <th></th>\n",
       "      <th></th>\n",
       "      <th></th>\n",
       "      <th></th>\n",
       "      <th></th>\n",
       "      <th>字數</th>\n",
       "      <th></th>\n",
       "      <th>附圖（幀）</th>\n",
       "      <th></th>\n",
       "      <th>網址</th>\n",
       "    </tr>\n",
       "  </thead>\n",
       "  <tbody>\n",
       "    <tr>\n",
       "      <th>0</th>\n",
       "      <td></td>\n",
       "      <td></td>\n",
       "      <td>吳美觀、中時、吳靜君</td>\n",
       "      <td></td>\n",
       "      <td>財經</td>\n",
       "      <td>2021-07-10</td>\n",
       "      <td>高端員工遭爆搶打公費疫苗？公司回應了</td>\n",
       "      <td>針對外界傳聞，高端的員工已施打新冠肺炎疫苗之事，高端今日發重訊說明，至今只有一名員工因懷孕以...</td>\n",
       "      <td></td>\n",
       "      <td></td>\n",
       "      <td></td>\n",
       "      <td></td>\n",
       "      <td></td>\n",
       "      <td>291</td>\n",
       "      <td></td>\n",
       "      <td>1</td>\n",
       "      <td></td>\n",
       "      <td>https://www.chinatimes.com/realtimenews/202107...</td>\n",
       "    </tr>\n",
       "    <tr>\n",
       "      <th>1</th>\n",
       "      <td></td>\n",
       "      <td></td>\n",
       "      <td>陳慰慈</td>\n",
       "      <td></td>\n",
       "      <td>生活</td>\n",
       "      <td>2021-07-09</td>\n",
       "      <td>新北10、11日開放67歲以上長者預約打疫苗</td>\n",
       "      <td>新北市10日、11日開放不限戶籍67歲以上長者、57歲以上原住民，及不限戶籍孕婦、已列冊的第...</td>\n",
       "      <td></td>\n",
       "      <td></td>\n",
       "      <td></td>\n",
       "      <td></td>\n",
       "      <td></td>\n",
       "      <td>238</td>\n",
       "      <td></td>\n",
       "      <td>1</td>\n",
       "      <td></td>\n",
       "      <td>https://www.chinatimes.com/realtimenews/202107...</td>\n",
       "    </tr>\n",
       "    <tr>\n",
       "      <th>2</th>\n",
       "      <td></td>\n",
       "      <td></td>\n",
       "      <td>趙婉淳、林周義、林良齊</td>\n",
       "      <td></td>\n",
       "      <td>政治</td>\n",
       "      <td>2021-07-09</td>\n",
       "      <td>陳時中認了高端、聯亞人員打國外疫苗：這些人染疫我們也睡不著覺</td>\n",
       "      <td>憂高端、聯亞人員染疫會睡不著？　陳時中喊冤：指封緘檢驗人員訂閱影音：中時新聞網國內疫苗短缺，...</td>\n",
       "      <td></td>\n",
       "      <td></td>\n",
       "      <td></td>\n",
       "      <td></td>\n",
       "      <td></td>\n",
       "      <td>1173</td>\n",
       "      <td></td>\n",
       "      <td>1（+1影片）</td>\n",
       "      <td></td>\n",
       "      <td>https://www.chinatimes.com/realtimenews/202107...</td>\n",
       "    </tr>\n",
       "    <tr>\n",
       "      <th>3</th>\n",
       "      <td></td>\n",
       "      <td></td>\n",
       "      <td>何立雯</td>\n",
       "      <td></td>\n",
       "      <td>生活</td>\n",
       "      <td>2021-07-10</td>\n",
       "      <td>新冠疫苗分葷素、BNT含蛋？前台大醫神解真相</td>\n",
       "      <td>近日網上謠傳疫苗有葷素之分，稱「莫德納疫苗是純素、輝瑞疫苗有蛋」。對此，台大前感染科醫師林氏...</td>\n",
       "      <td></td>\n",
       "      <td></td>\n",
       "      <td></td>\n",
       "      <td></td>\n",
       "      <td></td>\n",
       "      <td>733</td>\n",
       "      <td></td>\n",
       "      <td>1</td>\n",
       "      <td></td>\n",
       "      <td>https://www.chinatimes.com/realtimenews/202107...</td>\n",
       "    </tr>\n",
       "    <tr>\n",
       "      <th>4</th>\n",
       "      <td></td>\n",
       "      <td></td>\n",
       "      <td>李俊毅</td>\n",
       "      <td></td>\n",
       "      <td>政治</td>\n",
       "      <td>2021-07-09</td>\n",
       "      <td>逾3百人打疫苗死亡 藍委脫口一句怒嗆蔡政府</td>\n",
       "      <td>國內外購、美日外援新冠疫苗逐步進入台灣，近期開始陸續施打，因目前疫苗施打率不佳，以及有不少長...</td>\n",
       "      <td></td>\n",
       "      <td></td>\n",
       "      <td></td>\n",
       "      <td></td>\n",
       "      <td></td>\n",
       "      <td>627</td>\n",
       "      <td></td>\n",
       "      <td>2</td>\n",
       "      <td></td>\n",
       "      <td>https://www.chinatimes.com/realtimenews/202107...</td>\n",
       "    </tr>\n",
       "    <tr>\n",
       "      <th>...</th>\n",
       "      <td>...</td>\n",
       "      <td>...</td>\n",
       "      <td>...</td>\n",
       "      <td>...</td>\n",
       "      <td>...</td>\n",
       "      <td>...</td>\n",
       "      <td>...</td>\n",
       "      <td>...</td>\n",
       "      <td>...</td>\n",
       "      <td>...</td>\n",
       "      <td>...</td>\n",
       "      <td>...</td>\n",
       "      <td>...</td>\n",
       "      <td>...</td>\n",
       "      <td>...</td>\n",
       "      <td>...</td>\n",
       "      <td>...</td>\n",
       "      <td>...</td>\n",
       "    </tr>\n",
       "    <tr>\n",
       "      <th>198</th>\n",
       "      <td></td>\n",
       "      <td></td>\n",
       "      <td>陳弘美</td>\n",
       "      <td></td>\n",
       "      <td>Error</td>\n",
       "      <td>2021-07-09</td>\n",
       "      <td>疫苗要不要打第3針 陳文茜：美國FDA宣布「答案」</td>\n",
       "      <td>新冠肺炎疫情再起，需要不要打第3針疫苗加強抗體成為外界關注焦點。（圖為輝瑞疫苗，達志影像／s...</td>\n",
       "      <td></td>\n",
       "      <td></td>\n",
       "      <td></td>\n",
       "      <td></td>\n",
       "      <td></td>\n",
       "      <td>621</td>\n",
       "      <td></td>\n",
       "      <td>1（+1影片）</td>\n",
       "      <td></td>\n",
       "      <td>https://www.chinatimes.com/amp/realtimenews/20...</td>\n",
       "    </tr>\n",
       "    <tr>\n",
       "      <th>199</th>\n",
       "      <td></td>\n",
       "      <td></td>\n",
       "      <td>張妍溱</td>\n",
       "      <td></td>\n",
       "      <td>Error</td>\n",
       "      <td>2021-07-09</td>\n",
       "      <td>台中疫苗打氣旺 3天逾9.7萬人接種莫德納</td>\n",
       "      <td>台中疫苗打氣旺 3天逾9.7萬人接種莫德納。（示意圖／達志影像）台中市9日本土、境外、社區快...</td>\n",
       "      <td></td>\n",
       "      <td></td>\n",
       "      <td></td>\n",
       "      <td></td>\n",
       "      <td></td>\n",
       "      <td>426</td>\n",
       "      <td></td>\n",
       "      <td>2</td>\n",
       "      <td></td>\n",
       "      <td>https://www.chinatimes.com/amp/realtimenews/20...</td>\n",
       "    </tr>\n",
       "    <tr>\n",
       "      <th>200</th>\n",
       "      <td></td>\n",
       "      <td></td>\n",
       "      <td>游念育</td>\n",
       "      <td></td>\n",
       "      <td>生活</td>\n",
       "      <td>2021-07-10</td>\n",
       "      <td>議員爆北市8名幼教員僅7人可打疫苗 北市教育局回應了</td>\n",
       "      <td>台北市長柯文哲日前宣布放寬托育、身障日照機構收托，但員工必須先施打疫苗，北市議員簡舒培卻在臉...</td>\n",
       "      <td></td>\n",
       "      <td></td>\n",
       "      <td></td>\n",
       "      <td></td>\n",
       "      <td></td>\n",
       "      <td>604</td>\n",
       "      <td></td>\n",
       "      <td>1</td>\n",
       "      <td></td>\n",
       "      <td>https://www.chinatimes.com/realtimenews/202107...</td>\n",
       "    </tr>\n",
       "    <tr>\n",
       "      <th>202</th>\n",
       "      <td></td>\n",
       "      <td></td>\n",
       "      <td>郭家崴</td>\n",
       "      <td></td>\n",
       "      <td>時事</td>\n",
       "      <td>2021-07-08</td>\n",
       "      <td>台北101五句話點燈 感謝日本提供113萬劑疫苗</td>\n",
       "      <td>為感謝日本再次提供台灣113萬劑疫苗，成為台灣對抗疫情最堅實的力量，也展現台日深厚友誼，台北...</td>\n",
       "      <td></td>\n",
       "      <td></td>\n",
       "      <td></td>\n",
       "      <td></td>\n",
       "      <td></td>\n",
       "      <td>117</td>\n",
       "      <td></td>\n",
       "      <td>1</td>\n",
       "      <td></td>\n",
       "      <td>https://www.chinatimes.com/realtimenews/202107...</td>\n",
       "    </tr>\n",
       "    <tr>\n",
       "      <th>204</th>\n",
       "      <td></td>\n",
       "      <td></td>\n",
       "      <td>丁世傑</td>\n",
       "      <td></td>\n",
       "      <td>政治</td>\n",
       "      <td>2021-07-09</td>\n",
       "      <td>蔡英文講這句話 吳子嘉如此評論</td>\n",
       "      <td>向日本再贈AZ致謝！蔡英文拜託國人施打疫苗　盼七月底接種率達25%訂閱影音：中時新聞網對於總...</td>\n",
       "      <td></td>\n",
       "      <td></td>\n",
       "      <td></td>\n",
       "      <td></td>\n",
       "      <td></td>\n",
       "      <td>234</td>\n",
       "      <td></td>\n",
       "      <td>1（+1影片）</td>\n",
       "      <td></td>\n",
       "      <td>https://www.chinatimes.com/realtimenews/202107...</td>\n",
       "    </tr>\n",
       "  </tbody>\n",
       "</table>\n",
       "<p>194 rows × 18 columns</p>\n",
       "</div>"
      ],
      "text/plain": [
       "                    作者      記者路線          日期                              標題  \\\n",
       "0           吳美觀、中時、吳靜君        財經  2021-07-10              高端員工遭爆搶打公費疫苗？公司回應了   \n",
       "1                  陳慰慈        生活  2021-07-09          新北10、11日開放67歲以上長者預約打疫苗   \n",
       "2          趙婉淳、林周義、林良齊        政治  2021-07-09  陳時中認了高端、聯亞人員打國外疫苗：這些人染疫我們也睡不著覺   \n",
       "3                  何立雯        生活  2021-07-10         新冠疫苗分葷素、BNT含蛋？前台大醫神解真相    \n",
       "4                  李俊毅        政治  2021-07-09           逾3百人打疫苗死亡 藍委脫口一句怒嗆蔡政府   \n",
       "..  .. ..          ... ..    ...         ...                             ...   \n",
       "198                陳弘美     Error  2021-07-09       疫苗要不要打第3針 陳文茜：美國FDA宣布「答案」   \n",
       "199                張妍溱     Error  2021-07-09           台中疫苗打氣旺 3天逾9.7萬人接種莫德納   \n",
       "200                游念育        生活  2021-07-10      議員爆北市8名幼教員僅7人可打疫苗 北市教育局回應了   \n",
       "202                郭家崴        時事  2021-07-08        台北101五句話點燈 感謝日本提供113萬劑疫苗   \n",
       "204                丁世傑        政治  2021-07-09                 蔡英文講這句話 吳子嘉如此評論   \n",
       "\n",
       "                                                    內文                   字數  \\\n",
       "0    針對外界傳聞，高端的員工已施打新冠肺炎疫苗之事，高端今日發重訊說明，至今只有一名員工因懷孕以...                  291   \n",
       "1    新北市10日、11日開放不限戶籍67歲以上長者、57歲以上原住民，及不限戶籍孕婦、已列冊的第...                  238   \n",
       "2    憂高端、聯亞人員染疫會睡不著？　陳時中喊冤：指封緘檢驗人員訂閱影音：中時新聞網國內疫苗短缺，...                 1173   \n",
       "3    近日網上謠傳疫苗有葷素之分，稱「莫德納疫苗是純素、輝瑞疫苗有蛋」。對此，台大前感染科醫師林氏...                  733   \n",
       "4    國內外購、美日外援新冠疫苗逐步進入台灣，近期開始陸續施打，因目前疫苗施打率不佳，以及有不少長...                  627   \n",
       "..                                                 ... .. .. .. .. ..   ...   \n",
       "198  新冠肺炎疫情再起，需要不要打第3針疫苗加強抗體成為外界關注焦點。（圖為輝瑞疫苗，達志影像／s...                  621   \n",
       "199  台中疫苗打氣旺 3天逾9.7萬人接種莫德納。（示意圖／達志影像）台中市9日本土、境外、社區快...                  426   \n",
       "200  台北市長柯文哲日前宣布放寬托育、身障日照機構收托，但員工必須先施打疫苗，北市議員簡舒培卻在臉...                  604   \n",
       "202  為感謝日本再次提供台灣113萬劑疫苗，成為台灣對抗疫情最堅實的力量，也展現台日深厚友誼，台北...                  117   \n",
       "204  向日本再贈AZ致謝！蔡英文拜託國人施打疫苗　盼七月底接種率達25%訂閱影音：中時新聞網對於總...                  234   \n",
       "\n",
       "          附圖（幀）                                                    網址  \n",
       "0             1     https://www.chinatimes.com/realtimenews/202107...  \n",
       "1             1     https://www.chinatimes.com/realtimenews/202107...  \n",
       "2       1（+1影片）     https://www.chinatimes.com/realtimenews/202107...  \n",
       "3             1     https://www.chinatimes.com/realtimenews/202107...  \n",
       "4             2     https://www.chinatimes.com/realtimenews/202107...  \n",
       "..  ..      ... ..                                                ...  \n",
       "198     1（+1影片）     https://www.chinatimes.com/amp/realtimenews/20...  \n",
       "199           2     https://www.chinatimes.com/amp/realtimenews/20...  \n",
       "200           1     https://www.chinatimes.com/realtimenews/202107...  \n",
       "202           1     https://www.chinatimes.com/realtimenews/202107...  \n",
       "204     1（+1影片）     https://www.chinatimes.com/realtimenews/202107...  \n",
       "\n",
       "[194 rows x 18 columns]"
      ]
     },
     "execution_count": 7,
     "metadata": {},
     "output_type": "execute_result"
    }
   ],
   "source": [
    "df"
   ]
  },
  {
   "cell_type": "code",
   "execution_count": 8,
   "metadata": {},
   "outputs": [],
   "source": [
    "df2=df.drop_duplicates()"
   ]
  },
  {
   "cell_type": "code",
   "execution_count": 9,
   "metadata": {},
   "outputs": [
    {
     "data": {
      "text/html": [
       "<div>\n",
       "<style scoped>\n",
       "    .dataframe tbody tr th:only-of-type {\n",
       "        vertical-align: middle;\n",
       "    }\n",
       "\n",
       "    .dataframe tbody tr th {\n",
       "        vertical-align: top;\n",
       "    }\n",
       "\n",
       "    .dataframe thead th {\n",
       "        text-align: right;\n",
       "    }\n",
       "</style>\n",
       "<table border=\"1\" class=\"dataframe\">\n",
       "  <thead>\n",
       "    <tr style=\"text-align: right;\">\n",
       "      <th></th>\n",
       "      <th></th>\n",
       "      <th></th>\n",
       "      <th>作者</th>\n",
       "      <th></th>\n",
       "      <th>記者路線</th>\n",
       "      <th>日期</th>\n",
       "      <th>標題</th>\n",
       "      <th>內文</th>\n",
       "      <th></th>\n",
       "      <th></th>\n",
       "      <th></th>\n",
       "      <th></th>\n",
       "      <th></th>\n",
       "      <th>字數</th>\n",
       "      <th></th>\n",
       "      <th>附圖（幀）</th>\n",
       "      <th></th>\n",
       "      <th>網址</th>\n",
       "    </tr>\n",
       "  </thead>\n",
       "  <tbody>\n",
       "    <tr>\n",
       "      <th>0</th>\n",
       "      <td></td>\n",
       "      <td></td>\n",
       "      <td>吳美觀、中時、吳靜君</td>\n",
       "      <td></td>\n",
       "      <td>財經</td>\n",
       "      <td>2021-07-10</td>\n",
       "      <td>高端員工遭爆搶打公費疫苗？公司回應了</td>\n",
       "      <td>針對外界傳聞，高端的員工已施打新冠肺炎疫苗之事，高端今日發重訊說明，至今只有一名員工因懷孕以...</td>\n",
       "      <td></td>\n",
       "      <td></td>\n",
       "      <td></td>\n",
       "      <td></td>\n",
       "      <td></td>\n",
       "      <td>291</td>\n",
       "      <td></td>\n",
       "      <td>1</td>\n",
       "      <td></td>\n",
       "      <td>https://www.chinatimes.com/realtimenews/202107...</td>\n",
       "    </tr>\n",
       "    <tr>\n",
       "      <th>1</th>\n",
       "      <td></td>\n",
       "      <td></td>\n",
       "      <td>陳慰慈</td>\n",
       "      <td></td>\n",
       "      <td>生活</td>\n",
       "      <td>2021-07-09</td>\n",
       "      <td>新北10、11日開放67歲以上長者預約打疫苗</td>\n",
       "      <td>新北市10日、11日開放不限戶籍67歲以上長者、57歲以上原住民，及不限戶籍孕婦、已列冊的第...</td>\n",
       "      <td></td>\n",
       "      <td></td>\n",
       "      <td></td>\n",
       "      <td></td>\n",
       "      <td></td>\n",
       "      <td>238</td>\n",
       "      <td></td>\n",
       "      <td>1</td>\n",
       "      <td></td>\n",
       "      <td>https://www.chinatimes.com/realtimenews/202107...</td>\n",
       "    </tr>\n",
       "    <tr>\n",
       "      <th>2</th>\n",
       "      <td></td>\n",
       "      <td></td>\n",
       "      <td>趙婉淳、林周義、林良齊</td>\n",
       "      <td></td>\n",
       "      <td>政治</td>\n",
       "      <td>2021-07-09</td>\n",
       "      <td>陳時中認了高端、聯亞人員打國外疫苗：這些人染疫我們也睡不著覺</td>\n",
       "      <td>憂高端、聯亞人員染疫會睡不著？　陳時中喊冤：指封緘檢驗人員訂閱影音：中時新聞網國內疫苗短缺，...</td>\n",
       "      <td></td>\n",
       "      <td></td>\n",
       "      <td></td>\n",
       "      <td></td>\n",
       "      <td></td>\n",
       "      <td>1173</td>\n",
       "      <td></td>\n",
       "      <td>1（+1影片）</td>\n",
       "      <td></td>\n",
       "      <td>https://www.chinatimes.com/realtimenews/202107...</td>\n",
       "    </tr>\n",
       "    <tr>\n",
       "      <th>3</th>\n",
       "      <td></td>\n",
       "      <td></td>\n",
       "      <td>何立雯</td>\n",
       "      <td></td>\n",
       "      <td>生活</td>\n",
       "      <td>2021-07-10</td>\n",
       "      <td>新冠疫苗分葷素、BNT含蛋？前台大醫神解真相</td>\n",
       "      <td>近日網上謠傳疫苗有葷素之分，稱「莫德納疫苗是純素、輝瑞疫苗有蛋」。對此，台大前感染科醫師林氏...</td>\n",
       "      <td></td>\n",
       "      <td></td>\n",
       "      <td></td>\n",
       "      <td></td>\n",
       "      <td></td>\n",
       "      <td>733</td>\n",
       "      <td></td>\n",
       "      <td>1</td>\n",
       "      <td></td>\n",
       "      <td>https://www.chinatimes.com/realtimenews/202107...</td>\n",
       "    </tr>\n",
       "    <tr>\n",
       "      <th>4</th>\n",
       "      <td></td>\n",
       "      <td></td>\n",
       "      <td>李俊毅</td>\n",
       "      <td></td>\n",
       "      <td>政治</td>\n",
       "      <td>2021-07-09</td>\n",
       "      <td>逾3百人打疫苗死亡 藍委脫口一句怒嗆蔡政府</td>\n",
       "      <td>國內外購、美日外援新冠疫苗逐步進入台灣，近期開始陸續施打，因目前疫苗施打率不佳，以及有不少長...</td>\n",
       "      <td></td>\n",
       "      <td></td>\n",
       "      <td></td>\n",
       "      <td></td>\n",
       "      <td></td>\n",
       "      <td>627</td>\n",
       "      <td></td>\n",
       "      <td>2</td>\n",
       "      <td></td>\n",
       "      <td>https://www.chinatimes.com/realtimenews/202107...</td>\n",
       "    </tr>\n",
       "    <tr>\n",
       "      <th>...</th>\n",
       "      <td>...</td>\n",
       "      <td>...</td>\n",
       "      <td>...</td>\n",
       "      <td>...</td>\n",
       "      <td>...</td>\n",
       "      <td>...</td>\n",
       "      <td>...</td>\n",
       "      <td>...</td>\n",
       "      <td>...</td>\n",
       "      <td>...</td>\n",
       "      <td>...</td>\n",
       "      <td>...</td>\n",
       "      <td>...</td>\n",
       "      <td>...</td>\n",
       "      <td>...</td>\n",
       "      <td>...</td>\n",
       "      <td>...</td>\n",
       "      <td>...</td>\n",
       "    </tr>\n",
       "    <tr>\n",
       "      <th>198</th>\n",
       "      <td></td>\n",
       "      <td></td>\n",
       "      <td>陳弘美</td>\n",
       "      <td></td>\n",
       "      <td>Error</td>\n",
       "      <td>2021-07-09</td>\n",
       "      <td>疫苗要不要打第3針 陳文茜：美國FDA宣布「答案」</td>\n",
       "      <td>新冠肺炎疫情再起，需要不要打第3針疫苗加強抗體成為外界關注焦點。（圖為輝瑞疫苗，達志影像／s...</td>\n",
       "      <td></td>\n",
       "      <td></td>\n",
       "      <td></td>\n",
       "      <td></td>\n",
       "      <td></td>\n",
       "      <td>621</td>\n",
       "      <td></td>\n",
       "      <td>1（+1影片）</td>\n",
       "      <td></td>\n",
       "      <td>https://www.chinatimes.com/amp/realtimenews/20...</td>\n",
       "    </tr>\n",
       "    <tr>\n",
       "      <th>199</th>\n",
       "      <td></td>\n",
       "      <td></td>\n",
       "      <td>張妍溱</td>\n",
       "      <td></td>\n",
       "      <td>Error</td>\n",
       "      <td>2021-07-09</td>\n",
       "      <td>台中疫苗打氣旺 3天逾9.7萬人接種莫德納</td>\n",
       "      <td>台中疫苗打氣旺 3天逾9.7萬人接種莫德納。（示意圖／達志影像）台中市9日本土、境外、社區快...</td>\n",
       "      <td></td>\n",
       "      <td></td>\n",
       "      <td></td>\n",
       "      <td></td>\n",
       "      <td></td>\n",
       "      <td>426</td>\n",
       "      <td></td>\n",
       "      <td>2</td>\n",
       "      <td></td>\n",
       "      <td>https://www.chinatimes.com/amp/realtimenews/20...</td>\n",
       "    </tr>\n",
       "    <tr>\n",
       "      <th>200</th>\n",
       "      <td></td>\n",
       "      <td></td>\n",
       "      <td>游念育</td>\n",
       "      <td></td>\n",
       "      <td>生活</td>\n",
       "      <td>2021-07-10</td>\n",
       "      <td>議員爆北市8名幼教員僅7人可打疫苗 北市教育局回應了</td>\n",
       "      <td>台北市長柯文哲日前宣布放寬托育、身障日照機構收托，但員工必須先施打疫苗，北市議員簡舒培卻在臉...</td>\n",
       "      <td></td>\n",
       "      <td></td>\n",
       "      <td></td>\n",
       "      <td></td>\n",
       "      <td></td>\n",
       "      <td>604</td>\n",
       "      <td></td>\n",
       "      <td>1</td>\n",
       "      <td></td>\n",
       "      <td>https://www.chinatimes.com/realtimenews/202107...</td>\n",
       "    </tr>\n",
       "    <tr>\n",
       "      <th>202</th>\n",
       "      <td></td>\n",
       "      <td></td>\n",
       "      <td>郭家崴</td>\n",
       "      <td></td>\n",
       "      <td>時事</td>\n",
       "      <td>2021-07-08</td>\n",
       "      <td>台北101五句話點燈 感謝日本提供113萬劑疫苗</td>\n",
       "      <td>為感謝日本再次提供台灣113萬劑疫苗，成為台灣對抗疫情最堅實的力量，也展現台日深厚友誼，台北...</td>\n",
       "      <td></td>\n",
       "      <td></td>\n",
       "      <td></td>\n",
       "      <td></td>\n",
       "      <td></td>\n",
       "      <td>117</td>\n",
       "      <td></td>\n",
       "      <td>1</td>\n",
       "      <td></td>\n",
       "      <td>https://www.chinatimes.com/realtimenews/202107...</td>\n",
       "    </tr>\n",
       "    <tr>\n",
       "      <th>204</th>\n",
       "      <td></td>\n",
       "      <td></td>\n",
       "      <td>丁世傑</td>\n",
       "      <td></td>\n",
       "      <td>政治</td>\n",
       "      <td>2021-07-09</td>\n",
       "      <td>蔡英文講這句話 吳子嘉如此評論</td>\n",
       "      <td>向日本再贈AZ致謝！蔡英文拜託國人施打疫苗　盼七月底接種率達25%訂閱影音：中時新聞網對於總...</td>\n",
       "      <td></td>\n",
       "      <td></td>\n",
       "      <td></td>\n",
       "      <td></td>\n",
       "      <td></td>\n",
       "      <td>234</td>\n",
       "      <td></td>\n",
       "      <td>1（+1影片）</td>\n",
       "      <td></td>\n",
       "      <td>https://www.chinatimes.com/realtimenews/202107...</td>\n",
       "    </tr>\n",
       "  </tbody>\n",
       "</table>\n",
       "<p>194 rows × 18 columns</p>\n",
       "</div>"
      ],
      "text/plain": [
       "                    作者      記者路線          日期                              標題  \\\n",
       "0           吳美觀、中時、吳靜君        財經  2021-07-10              高端員工遭爆搶打公費疫苗？公司回應了   \n",
       "1                  陳慰慈        生活  2021-07-09          新北10、11日開放67歲以上長者預約打疫苗   \n",
       "2          趙婉淳、林周義、林良齊        政治  2021-07-09  陳時中認了高端、聯亞人員打國外疫苗：這些人染疫我們也睡不著覺   \n",
       "3                  何立雯        生活  2021-07-10         新冠疫苗分葷素、BNT含蛋？前台大醫神解真相    \n",
       "4                  李俊毅        政治  2021-07-09           逾3百人打疫苗死亡 藍委脫口一句怒嗆蔡政府   \n",
       "..  .. ..          ... ..    ...         ...                             ...   \n",
       "198                陳弘美     Error  2021-07-09       疫苗要不要打第3針 陳文茜：美國FDA宣布「答案」   \n",
       "199                張妍溱     Error  2021-07-09           台中疫苗打氣旺 3天逾9.7萬人接種莫德納   \n",
       "200                游念育        生活  2021-07-10      議員爆北市8名幼教員僅7人可打疫苗 北市教育局回應了   \n",
       "202                郭家崴        時事  2021-07-08        台北101五句話點燈 感謝日本提供113萬劑疫苗   \n",
       "204                丁世傑        政治  2021-07-09                 蔡英文講這句話 吳子嘉如此評論   \n",
       "\n",
       "                                                    內文                   字數  \\\n",
       "0    針對外界傳聞，高端的員工已施打新冠肺炎疫苗之事，高端今日發重訊說明，至今只有一名員工因懷孕以...                  291   \n",
       "1    新北市10日、11日開放不限戶籍67歲以上長者、57歲以上原住民，及不限戶籍孕婦、已列冊的第...                  238   \n",
       "2    憂高端、聯亞人員染疫會睡不著？　陳時中喊冤：指封緘檢驗人員訂閱影音：中時新聞網國內疫苗短缺，...                 1173   \n",
       "3    近日網上謠傳疫苗有葷素之分，稱「莫德納疫苗是純素、輝瑞疫苗有蛋」。對此，台大前感染科醫師林氏...                  733   \n",
       "4    國內外購、美日外援新冠疫苗逐步進入台灣，近期開始陸續施打，因目前疫苗施打率不佳，以及有不少長...                  627   \n",
       "..                                                 ... .. .. .. .. ..   ...   \n",
       "198  新冠肺炎疫情再起，需要不要打第3針疫苗加強抗體成為外界關注焦點。（圖為輝瑞疫苗，達志影像／s...                  621   \n",
       "199  台中疫苗打氣旺 3天逾9.7萬人接種莫德納。（示意圖／達志影像）台中市9日本土、境外、社區快...                  426   \n",
       "200  台北市長柯文哲日前宣布放寬托育、身障日照機構收托，但員工必須先施打疫苗，北市議員簡舒培卻在臉...                  604   \n",
       "202  為感謝日本再次提供台灣113萬劑疫苗，成為台灣對抗疫情最堅實的力量，也展現台日深厚友誼，台北...                  117   \n",
       "204  向日本再贈AZ致謝！蔡英文拜託國人施打疫苗　盼七月底接種率達25%訂閱影音：中時新聞網對於總...                  234   \n",
       "\n",
       "          附圖（幀）                                                    網址  \n",
       "0             1     https://www.chinatimes.com/realtimenews/202107...  \n",
       "1             1     https://www.chinatimes.com/realtimenews/202107...  \n",
       "2       1（+1影片）     https://www.chinatimes.com/realtimenews/202107...  \n",
       "3             1     https://www.chinatimes.com/realtimenews/202107...  \n",
       "4             2     https://www.chinatimes.com/realtimenews/202107...  \n",
       "..  ..      ... ..                                                ...  \n",
       "198     1（+1影片）     https://www.chinatimes.com/amp/realtimenews/20...  \n",
       "199           2     https://www.chinatimes.com/amp/realtimenews/20...  \n",
       "200           1     https://www.chinatimes.com/realtimenews/202107...  \n",
       "202           1     https://www.chinatimes.com/realtimenews/202107...  \n",
       "204     1（+1影片）     https://www.chinatimes.com/realtimenews/202107...  \n",
       "\n",
       "[194 rows x 18 columns]"
      ]
     },
     "execution_count": 9,
     "metadata": {},
     "output_type": "execute_result"
    }
   ],
   "source": [
    "df2"
   ]
  },
  {
   "cell_type": "code",
   "execution_count": 10,
   "metadata": {},
   "outputs": [],
   "source": [
    "df2.to_excel('中時0708-0710.xlsx')"
   ]
  },
  {
   "cell_type": "code",
   "execution_count": 14,
   "metadata": {},
   "outputs": [
    {
     "data": {
      "text/plain": [
       "False"
      ]
     },
     "execution_count": 14,
     "metadata": {},
     "output_type": "execute_result"
    }
   ],
   "source": []
  },
  {
   "cell_type": "code",
   "execution_count": null,
   "metadata": {},
   "outputs": [],
   "source": []
  },
  {
   "cell_type": "code",
   "execution_count": null,
   "metadata": {},
   "outputs": [],
   "source": []
  },
  {
   "cell_type": "code",
   "execution_count": 133,
   "metadata": {},
   "outputs": [],
   "source": [
    "#news[0].to_excel('0101到0111.xlsx')"
   ]
  },
  {
   "cell_type": "code",
   "execution_count": null,
   "metadata": {},
   "outputs": [],
   "source": [
    "new[1]"
   ]
  },
  {
   "cell_type": "code",
   "execution_count": 3,
   "metadata": {},
   "outputs": [],
   "source": [
    "r=[]"
   ]
  },
  {
   "cell_type": "code",
   "execution_count": 4,
   "metadata": {},
   "outputs": [],
   "source": [
    "for i in range(0,len(web_list)):\n",
    "    r1 = requests.get(web_list[i])\n",
    "    r.append(r1)\n",
    "    time.sleep(random.uniform(1, 5))"
   ]
  },
  {
   "cell_type": "code",
   "execution_count": 5,
   "metadata": {},
   "outputs": [],
   "source": [
    "import pandas as pd\n",
    "df=pd.DataFrame()"
   ]
  },
  {
   "cell_type": "code",
   "execution_count": 6,
   "metadata": {},
   "outputs": [],
   "source": [
    "title=[]\n",
    "http=[]"
   ]
  },
  {
   "cell_type": "code",
   "execution_count": 7,
   "metadata": {},
   "outputs": [],
   "source": [
    "for i in range(0,len(r)):\n",
    "    if r[0].status_code == requests.codes.ok:\n",
    "      # 以 BeautifulSoup 解析 HTML 原始碼\n",
    "        soup = BeautifulSoup(r[0].text, 'html.parser')\n",
    "\n",
    "      #觀察 HTML 原始碼\n",
    "      # print(soup.prettify())\n",
    "\n",
    "      # 以 CSS 的選擇器來抓取 Google 的搜尋結果\n",
    "        items = soup.select('a[href^=\"/url\"]')\n",
    "\n",
    "        items= items[:-2]\n",
    "        for i in items:\n",
    "        # 標題\n",
    "            title.append(i.text)\n",
    "        # 網址\n",
    "            http.append(i.get('href')[7:].split('&')[0])"
   ]
  },
  {
   "cell_type": "code",
   "execution_count": 8,
   "metadata": {},
   "outputs": [],
   "source": [
    "dic={\"標題\":title,\"網址\":http}\n",
    "df=pd.DataFrame(dic)"
   ]
  },
  {
   "cell_type": "code",
   "execution_count": 110,
   "metadata": {},
   "outputs": [],
   "source": [
    "#df"
   ]
  },
  {
   "cell_type": "code",
   "execution_count": 10,
   "metadata": {},
   "outputs": [],
   "source": []
  },
  {
   "cell_type": "code",
   "execution_count": 11,
   "metadata": {},
   "outputs": [],
   "source": [
    "china_time=[]\n",
    "for i in range(0,len(http)):\n",
    "    china_time.append(requests.get(http[i]))\n",
    "    time.sleep(random.uniform(1, 5))"
   ]
  },
  {
   "cell_type": "code",
   "execution_count": 12,
   "metadata": {},
   "outputs": [],
   "source": [
    "def count_word(x):\n",
    "    chinese=[]\n",
    "    english=[]\n",
    "    number=[]\n",
    "    en=''\n",
    "    num=''\n",
    "    for i in list(x):\n",
    "\n",
    "        if i in string.ascii_letters:\n",
    "            en+=i\n",
    "        elif i.isdigit():\n",
    "            num+=i\n",
    "        else:\n",
    "            if en !='':\n",
    "                english.append(en)\n",
    "            if num!='':\n",
    "                number.append(num)\n",
    "            en=''\n",
    "            num=''\n",
    "            if i !=' ':\n",
    "                chinese.append(i)\n",
    "    words=len(english)+len(chinese)+len(number)\n",
    "    return words"
   ]
  },
  {
   "cell_type": "code",
   "execution_count": 92,
   "metadata": {},
   "outputs": [],
   "source": [
    "def chinatime(x):\n",
    "    china=BeautifulSoup(x.text, 'html.parser')\n",
    "    #標題\n",
    "    title=china.find('h1', attrs={'class':'article-title'}).text\n",
    "    #日期\n",
    "    date=china.find('meta', property=\"article:published_time\")['content'][0:10]\n",
    "    #記者\n",
    "    author=china.find('div',attrs={'class':'author'}).text\n",
    "    author=author.replace('\\n','')\n",
    "    author=author.replace(' ','')\n",
    "    #類別\n",
    "    sention=china.find('meta',attrs={'property':'article:section'})['content']\n",
    "    #內文\n",
    "    content=china.find('div',attrs={'class':'article-body'}).text\n",
    "    content=content.replace('\\n','')\n",
    "    k=content.rfind('。')\n",
    "    content=content[:k+1]\n",
    "    #字數\n",
    "    words=count_word(content)\n",
    "    #圖片數\n",
    "    n_p=len(china.find_all('div',attrs={'class':'photo-container'}))\n",
    "    #影片數\n",
    "    v_p=len(china.find_all('div',attrs={'class':'article-body','class':'video-container'}))\n",
    "    ##加起來\n",
    "    if v_p !=0:\n",
    "        all_p=f'{n_p}+{v_p}影片'\n",
    "    else:\n",
    "        all_p=n_p\n",
    "    if '疫苗' in content :\n",
    "        return [title,content,words,sention,date,author,all_p]\n",
    "    else:\n",
    "        return['','','','','','','']"
   ]
  },
  {
   "cell_type": "code",
   "execution_count": 93,
   "metadata": {},
   "outputs": [],
   "source": [
    "china_time_result=list(map(chinatime,china_time))"
   ]
  },
  {
   "cell_type": "code",
   "execution_count": 94,
   "metadata": {},
   "outputs": [
    {
     "data": {
      "text/plain": [
       "['輝瑞疫苗 獲世衛第一個認證施打',\n",
       " '世界衛生組織（WHO）於元旦前夕宣布，將其第一個新冠疫苗緊急使用認證授予美國輝瑞藥廠和德國BioNTech公司共同研發的疫苗，並特別提醒這款疫苗需要以超低溫方式儲存，這對配送工作形成相當挑戰。WHO召集來自世界各地的專家與WHO團隊一起全面審核了該疫苗的安全性、有效性和質量數據，認為這款疫苗符合WHO制定的安全性和有效性標準，使用該疫苗因應新冠疫情帶來的好處足以抵消其潛在風險。WHO負責藥品和衛生產品的助理祕書長西蒙女士表示，這是確保全球獲得新冠疫苗非常重要的一步。但她強調，全球需要做出更大努力，以實現有充足的疫苗供應來滿足世界各地重點人群的需求。WHO免疫策略諮詢小組將於1月5日召集會議，就去年9月公布的新冠疫苗接種人群總體優先次序建議，為該產品的使用制定具體政策和建議。WHO表示，輝瑞/BioNTech疫苗需要儲存在攝氏零下60至90度的低溫環境下，這對無法提供相應環境的地區形成極大挑戰，為此WHO正努力協助各國評估相關的執行計畫。另外，WHO也正式通報新冠病毒自出現以來4種變種病毒的主要變異情況，建議各國增加對新冠病毒的常規基因測序，以便更好地了解病毒傳播並監測其變種。根據通報，2020年1月底至2月初，病毒出現D614G突變，逐漸取代最初發現的病毒株，至2020年6月已成為全球主要傳播的病毒類型。2020年8至9月，丹麥發現一種與水貂相關的變種，被命名為Cluster 5，丹麥僅在9月發現12例人體感染此變種的病例，顯然未廣泛傳播。2020年12月14日，英國向WHO報告VOC 202012 /01新變種，具有更強傳播力，至12月30日，已有其他31個國家和地區發現此變種。12月18日，南非檢測到又一變種，命名為501Y.V2，南非以外已有4國發現該變種。',\n",
       " 666,\n",
       " '生活新聞',\n",
       " '2021-01-02',\n",
       " '楊明暐',\n",
       " 1]"
      ]
     },
     "execution_count": 94,
     "metadata": {},
     "output_type": "execute_result"
    }
   ],
   "source": [
    "china_time_result[1]"
   ]
  },
  {
   "cell_type": "code",
   "execution_count": 95,
   "metadata": {},
   "outputs": [],
   "source": [
    "chinatime_df=pd.DataFrame(china_time_result)\n",
    "chinatime_df=chinatime_df.rename(index=str,columns={0:'標題',1:'內文',2:'字數',3:'分類',4:'日期',5:'記者/機構',6:\"附圖（幀）\"})"
   ]
  },
  {
   "cell_type": "code",
   "execution_count": 96,
   "metadata": {},
   "outputs": [],
   "source": [
    "chinatime_df['網址']=http"
   ]
  },
  {
   "cell_type": "code",
   "execution_count": 100,
   "metadata": {},
   "outputs": [
    {
     "data": {
      "text/html": [
       "<div>\n",
       "<style scoped>\n",
       "    .dataframe tbody tr th:only-of-type {\n",
       "        vertical-align: middle;\n",
       "    }\n",
       "\n",
       "    .dataframe tbody tr th {\n",
       "        vertical-align: top;\n",
       "    }\n",
       "\n",
       "    .dataframe thead th {\n",
       "        text-align: right;\n",
       "    }\n",
       "</style>\n",
       "<table border=\"1\" class=\"dataframe\">\n",
       "  <thead>\n",
       "    <tr style=\"text-align: right;\">\n",
       "      <th></th>\n",
       "      <th>標題</th>\n",
       "      <th>內文</th>\n",
       "      <th>字數</th>\n",
       "      <th>分類</th>\n",
       "      <th>日期</th>\n",
       "      <th>記者/機構</th>\n",
       "      <th>附圖（幀）</th>\n",
       "      <th>網址</th>\n",
       "    </tr>\n",
       "  </thead>\n",
       "  <tbody>\n",
       "    <tr>\n",
       "      <th>0</th>\n",
       "      <td>印度將正式批准牛津疫苗 接種前全國先預演</td>\n",
       "      <td>印度武漢肺炎疫苗接種進入倒數階段，英國牛津大學與阿斯特捷利康（AstraZeneca）藥廠開...</td>\n",
       "      <td>1014</td>\n",
       "      <td>國際</td>\n",
       "      <td>2021-01-02</td>\n",
       "      <td>中央社</td>\n",
       "      <td>1</td>\n",
       "      <td>https://www.chinatimes.com/realtimenews/202101...</td>\n",
       "    </tr>\n",
       "    <tr>\n",
       "      <th>1</th>\n",
       "      <td>輝瑞疫苗 獲世衛第一個認證施打</td>\n",
       "      <td>世界衛生組織（WHO）於元旦前夕宣布，將其第一個新冠疫苗緊急使用認證授予美國輝瑞藥廠和德國B...</td>\n",
       "      <td>666</td>\n",
       "      <td>生活新聞</td>\n",
       "      <td>2021-01-02</td>\n",
       "      <td>楊明暐</td>\n",
       "      <td>1</td>\n",
       "      <td>https://www.chinatimes.com/newspapers/20210102...</td>\n",
       "    </tr>\n",
       "    <tr>\n",
       "      <th>2</th>\n",
       "      <td>日媒稱大陸製造新冠疫苗被帶入日本 中使館駁斥</td>\n",
       "      <td>中國駐日本大使館2日駁斥日媒報導「中國製造」疫苗流入日本傳聞。強調中方對個別日本媒體未經核實...</td>\n",
       "      <td>701</td>\n",
       "      <td>兩岸</td>\n",
       "      <td>2021-01-02</td>\n",
       "      <td>李文輝</td>\n",
       "      <td>1</td>\n",
       "      <td>https://www.chinatimes.com/realtimenews/202101...</td>\n",
       "    </tr>\n",
       "    <tr>\n",
       "      <th>3</th>\n",
       "      <td>以色列240人注射輝瑞疫苗後染疫　還有4死</td>\n",
       "      <td>以色列先前宣布，採用美國藥廠輝瑞與德國藥廠BioNTech合作研發的新冠疫苗，並展開全國接種...</td>\n",
       "      <td>481</td>\n",
       "      <td>國際</td>\n",
       "      <td>2021-01-02</td>\n",
       "      <td>施施</td>\n",
       "      <td>1</td>\n",
       "      <td>https://www.chinatimes.com/realtimenews/202101...</td>\n",
       "    </tr>\n",
       "    <tr>\n",
       "      <th>4</th>\n",
       "      <td>陸國產疫苗 全民免費施打</td>\n",
       "      <td>目前免費接種新冠疫苗的國家大陸首款國產新冠疫苗獲准上市，將提供全民免費施打，已450萬大陸民...</td>\n",
       "      <td>690</td>\n",
       "      <td>生活新聞</td>\n",
       "      <td>2021-01-01</td>\n",
       "      <td>藍孝威、諶悠文</td>\n",
       "      <td>2</td>\n",
       "      <td>https://www.chinatimes.com/newspapers/20210101...</td>\n",
       "    </tr>\n",
       "    <tr>\n",
       "      <th>5</th>\n",
       "      <td>不想掉隊 體育署得硬起來</td>\n",
       "      <td>全球體壇今年希望在新冠疫苗上路後，逐漸恢復原有秩序。台灣堪稱防疫模範生，但今年要「走出去」爭...</td>\n",
       "      <td>549</td>\n",
       "      <td>運動天地</td>\n",
       "      <td>2021-01-01</td>\n",
       "      <td>李弘斌、新聞透視</td>\n",
       "      <td>1</td>\n",
       "      <td>https://www.chinatimes.com/newspapers/20210101...</td>\n",
       "    </tr>\n",
       "    <tr>\n",
       "      <th>6</th>\n",
       "      <td>中時社論》比疫情還失控的陳時中</td>\n",
       "      <td>台灣出現英國變種病毒確診個案，才剛說過不必靠鎖國防疫的中央流行疫情指揮官陳時中，也不得不宣布...</td>\n",
       "      <td>1541</td>\n",
       "      <td>中時社論</td>\n",
       "      <td>2021-01-02</td>\n",
       "      <td>主筆室</td>\n",
       "      <td>1</td>\n",
       "      <td>https://www.chinatimes.com/opinion/20210102003...</td>\n",
       "    </tr>\n",
       "    <tr>\n",
       "      <th>7</th>\n",
       "      <td>疫情衝擊 藥廠調漲美國逾300款藥品價格</td>\n",
       "      <td>新冠疫情衝擊藥品需求，另一方面為反制美國政府祭出調降新藥價格的規範，輝瑞（Pfizer）、賽...</td>\n",
       "      <td>661</td>\n",
       "      <td>財經</td>\n",
       "      <td>2021-01-02</td>\n",
       "      <td>吳慧珍、綜合外電</td>\n",
       "      <td>0</td>\n",
       "      <td>https://www.chinatimes.com/realtimenews/202101...</td>\n",
       "    </tr>\n",
       "    <tr>\n",
       "      <th>8</th>\n",
       "      <td></td>\n",
       "      <td></td>\n",
       "      <td></td>\n",
       "      <td></td>\n",
       "      <td></td>\n",
       "      <td></td>\n",
       "      <td></td>\n",
       "      <td>https://www.chinatimes.com/realtimenews/202101...</td>\n",
       "    </tr>\n",
       "    <tr>\n",
       "      <th>9</th>\n",
       "      <td></td>\n",
       "      <td></td>\n",
       "      <td></td>\n",
       "      <td></td>\n",
       "      <td></td>\n",
       "      <td></td>\n",
       "      <td></td>\n",
       "      <td>https://www.chinatimes.com/realtimenews/202101...</td>\n",
       "    </tr>\n",
       "  </tbody>\n",
       "</table>\n",
       "</div>"
      ],
      "text/plain": [
       "                       標題                                                 內文  \\\n",
       "0    印度將正式批准牛津疫苗 接種前全國先預演  印度武漢肺炎疫苗接種進入倒數階段，英國牛津大學與阿斯特捷利康（AstraZeneca）藥廠開...   \n",
       "1         輝瑞疫苗 獲世衛第一個認證施打  世界衛生組織（WHO）於元旦前夕宣布，將其第一個新冠疫苗緊急使用認證授予美國輝瑞藥廠和德國B...   \n",
       "2  日媒稱大陸製造新冠疫苗被帶入日本 中使館駁斥  中國駐日本大使館2日駁斥日媒報導「中國製造」疫苗流入日本傳聞。強調中方對個別日本媒體未經核實...   \n",
       "3   以色列240人注射輝瑞疫苗後染疫　還有4死  以色列先前宣布，採用美國藥廠輝瑞與德國藥廠BioNTech合作研發的新冠疫苗，並展開全國接種...   \n",
       "4            陸國產疫苗 全民免費施打  目前免費接種新冠疫苗的國家大陸首款國產新冠疫苗獲准上市，將提供全民免費施打，已450萬大陸民...   \n",
       "5            不想掉隊 體育署得硬起來  全球體壇今年希望在新冠疫苗上路後，逐漸恢復原有秩序。台灣堪稱防疫模範生，但今年要「走出去」爭...   \n",
       "6         中時社論》比疫情還失控的陳時中  台灣出現英國變種病毒確診個案，才剛說過不必靠鎖國防疫的中央流行疫情指揮官陳時中，也不得不宣布...   \n",
       "7    疫情衝擊 藥廠調漲美國逾300款藥品價格  新冠疫情衝擊藥品需求，另一方面為反制美國政府祭出調降新藥價格的規範，輝瑞（Pfizer）、賽...   \n",
       "8                                                                              \n",
       "9                                                                              \n",
       "\n",
       "     字數    分類          日期     記者/機構 附圖（幀）  \\\n",
       "0  1014    國際  2021-01-02       中央社     1   \n",
       "1   666  生活新聞  2021-01-02       楊明暐     1   \n",
       "2   701    兩岸  2021-01-02       李文輝     1   \n",
       "3   481    國際  2021-01-02        施施     1   \n",
       "4   690  生活新聞  2021-01-01   藍孝威、諶悠文     2   \n",
       "5   549  運動天地  2021-01-01  李弘斌、新聞透視     1   \n",
       "6  1541  中時社論  2021-01-02       主筆室     1   \n",
       "7   661    財經  2021-01-02  吳慧珍、綜合外電     0   \n",
       "8                                           \n",
       "9                                           \n",
       "\n",
       "                                                  網址  \n",
       "0  https://www.chinatimes.com/realtimenews/202101...  \n",
       "1  https://www.chinatimes.com/newspapers/20210102...  \n",
       "2  https://www.chinatimes.com/realtimenews/202101...  \n",
       "3  https://www.chinatimes.com/realtimenews/202101...  \n",
       "4  https://www.chinatimes.com/newspapers/20210101...  \n",
       "5  https://www.chinatimes.com/newspapers/20210101...  \n",
       "6  https://www.chinatimes.com/opinion/20210102003...  \n",
       "7  https://www.chinatimes.com/realtimenews/202101...  \n",
       "8  https://www.chinatimes.com/realtimenews/202101...  \n",
       "9  https://www.chinatimes.com/realtimenews/202101...  "
      ]
     },
     "execution_count": 100,
     "metadata": {},
     "output_type": "execute_result"
    }
   ],
   "source": [
    "chinatime_df"
   ]
  },
  {
   "cell_type": "code",
   "execution_count": 104,
   "metadata": {},
   "outputs": [
    {
     "data": {
      "text/plain": [
       "'https://www.chinatimes.com/realtimenews/20210102003792-260410'"
      ]
     },
     "execution_count": 104,
     "metadata": {},
     "output_type": "execute_result"
    }
   ],
   "source": [
    "chinatime_df.網址[7]"
   ]
  },
  {
   "cell_type": "code",
   "execution_count": 107,
   "metadata": {},
   "outputs": [
    {
     "data": {
      "text/plain": [
       "'新冠疫情衝擊藥品需求，另一方面為反制美國政府祭出調降新藥價格的規範，輝瑞（Pfizer）、賽諾菲（Sanofi）、葛蘭素史克（GSK）等各大藥廠打算自元旦起，調漲美國境內販售的300多種藥品價格。《路透》報導指出，美國民眾礙於疫情少上醫院看診，部分藥品的需求減少。此外美國處方藥價格之高在全球數一數二，讓處方藥降價早被川普列為競選政見，他上台後更是施政重點，但相關規範會壓縮製藥業利潤空間。全球大封鎖期間，病患求診和開處方藥暴減，輝瑞等大藥廠又挺身而出投入新冠疫苗研發，調漲藥品價格有助彌補藥廠流失的營收。據醫療保健研究機構3 Axis Advisors指出，各大藥廠的藥品漲幅控制在10％以下，輝瑞、賽諾菲等目前為止已調漲藥價的製藥巨頭，漲幅不超過5％。美國輝瑞擬調漲旗下逾60種藥品價格，漲幅在0.5％到5％之間，像是治療類風濕關節炎的暢銷藥Xeljanz及癌症藥物Ibrance、Inlyta，調漲約5％。法國大藥廠賽諾菲發言人寇斯（Ashleigh Koss）表示，會上調多項疫苗價格，漲幅在5％以內，1月稍後還將發布更多漲價資訊。3 Axis表示，英國藥廠葛蘭素史克生產的帶狀?疹疫苗Shingrix，以及白喉、破傷風、百日咳疫苗Pediarix，分別調漲7％、8.6％。3 Axis的資料顯示，去年美國市場計有860多種藥品漲價，平均漲幅在5％左右，但從調漲幅度及受影響的藥品數量來看，自2015年迄今藥廠已大幅放緩漲價速度。川普政府雖力求兌現調降處方藥價格的政策支票，但面臨PhRMA等製藥業團體的訴訟挑戰而遇阻。總統當選人拜登也矢言壓低藥品成本，打算交由聯邦醫療保險（Medicare）與藥商議價，他力挺民主黨國會議員推動相關立法，然國會預算辦公室估計，2029年前製藥業恐因此損失超過3,000億美元。'"
      ]
     },
     "execution_count": 107,
     "metadata": {},
     "output_type": "execute_result"
    }
   ],
   "source": [
    "chinatime_df.內文[7]"
   ]
  },
  {
   "cell_type": "code",
   "execution_count": 71,
   "metadata": {},
   "outputs": [],
   "source": [
    "test=requests.get('https://www.chinatimes.com/realtimenews/20201208004567-260408?chdtv')\n",
    "china2=BeautifulSoup(test.text, 'html.parser')"
   ]
  },
  {
   "cell_type": "code",
   "execution_count": 14,
   "metadata": {},
   "outputs": [],
   "source": [
    "china=BeautifulSoup(china_time[0].text, 'html.parser')"
   ]
  },
  {
   "cell_type": "code",
   "execution_count": 58,
   "metadata": {},
   "outputs": [],
   "source": [
    "#print(china2.prettify())"
   ]
  },
  {
   "cell_type": "code",
   "execution_count": 42,
   "metadata": {},
   "outputs": [
    {
     "data": {
      "text/plain": [
       "'印度將正式批准牛津疫苗 接種前全國先預演'"
      ]
     },
     "execution_count": 42,
     "metadata": {},
     "output_type": "execute_result"
    }
   ],
   "source": [
    "#標題\n",
    "china.find('h1', attrs={'class':'article-title'}).text"
   ]
  },
  {
   "cell_type": "code",
   "execution_count": 43,
   "metadata": {},
   "outputs": [
    {
     "data": {
      "text/plain": [
       "'https://www.chinatimes.com/realtimenews/20210102001960-260408'"
      ]
     },
     "execution_count": 43,
     "metadata": {},
     "output_type": "execute_result"
    }
   ],
   "source": [
    "http[0]"
   ]
  },
  {
   "cell_type": "code",
   "execution_count": 16,
   "metadata": {},
   "outputs": [
    {
     "data": {
      "text/plain": [
       "'2021-01-02'"
      ]
     },
     "execution_count": 16,
     "metadata": {},
     "output_type": "execute_result"
    }
   ],
   "source": [
    "#日期\n",
    "china.find('meta', property=\"article:published_time\")['content'][0:10]"
   ]
  },
  {
   "cell_type": "code",
   "execution_count": 17,
   "metadata": {},
   "outputs": [
    {
     "data": {
      "text/plain": [
       "'中央社'"
      ]
     },
     "execution_count": 17,
     "metadata": {},
     "output_type": "execute_result"
    }
   ],
   "source": [
    "#記者\n",
    "author=china.find('div',attrs={'class':'author'}).text\n",
    "author=author.replace('\\n','')\n",
    "author=author.replace(' ','')\n",
    "author"
   ]
  },
  {
   "cell_type": "code",
   "execution_count": 18,
   "metadata": {},
   "outputs": [
    {
     "data": {
      "text/plain": [
       "'國際'"
      ]
     },
     "execution_count": 18,
     "metadata": {},
     "output_type": "execute_result"
    }
   ],
   "source": [
    "#類別\n",
    "china.find('meta',attrs={'property':'article:section'})['content']"
   ]
  },
  {
   "cell_type": "code",
   "execution_count": 19,
   "metadata": {},
   "outputs": [],
   "source": [
    "content=china.find('div',attrs={'class':'article-body'}).text\n",
    "k=content.rfind('。')\n",
    "content=content[:k+1]"
   ]
  },
  {
   "cell_type": "code",
   "execution_count": 20,
   "metadata": {},
   "outputs": [],
   "source": [
    "content=content.replace('\\n','')"
   ]
  },
  {
   "cell_type": "code",
   "execution_count": 21,
   "metadata": {},
   "outputs": [],
   "source": [
    "def count_word(x):\n",
    "    chinese=[]\n",
    "    english=[]\n",
    "    number=[]\n",
    "    en=''\n",
    "    num=''\n",
    "    for i in list(x):\n",
    "\n",
    "        if i in string.ascii_letters:\n",
    "            en+=i\n",
    "        elif i.isdigit():\n",
    "            num+=i\n",
    "        else:\n",
    "            if en !='':\n",
    "                english.append(en)\n",
    "            if num!='':\n",
    "                number.append(num)\n",
    "            en=''\n",
    "            num=''\n",
    "            if i !=' ':\n",
    "                chinese.append(i)\n",
    "    words=len(english)+len(chinese)+len(number)\n",
    "    return words"
   ]
  },
  {
   "cell_type": "code",
   "execution_count": 22,
   "metadata": {},
   "outputs": [
    {
     "data": {
      "text/plain": [
       "1014"
      ]
     },
     "execution_count": 22,
     "metadata": {},
     "output_type": "execute_result"
    }
   ],
   "source": [
    "count_word(content)"
   ]
  },
  {
   "cell_type": "code",
   "execution_count": 69,
   "metadata": {},
   "outputs": [
    {
     "data": {
      "text/plain": [
       "1"
      ]
     },
     "execution_count": 69,
     "metadata": {},
     "output_type": "execute_result"
    }
   ],
   "source": [
    "#圖片數\n",
    "n_p=plen(china2.find_all('div',attrs={'class':'photo-container'}))\n",
    "#影片數\n",
    "v_p=len(china2.find_all('div',attrs={'class':'article-body','class':'video-container'}))"
   ]
  },
  {
   "cell_type": "code",
   "execution_count": 75,
   "metadata": {},
   "outputs": [
    {
     "data": {
      "text/plain": [
       "2"
      ]
     },
     "execution_count": 75,
     "metadata": {},
     "output_type": "execute_result"
    }
   ],
   "source": [
    "len(china2.find_all('div',attrs={'class':'article-body','class':'video-container'}))"
   ]
  },
  {
   "cell_type": "code",
   "execution_count": 73,
   "metadata": {},
   "outputs": [
    {
     "data": {
      "text/plain": [
       "[<div class=\"video-container\">\n",
       " <iframe allow=\"autoplay; encrypted-media\" allowfullscreen=\"\" height=\"315\" src=\"https://www.youtube.com/embed/qWW1DZ8eUoo\" width=\"560\"></iframe>\n",
       " </div>,\n",
       " <div class=\"video-container\">\n",
       " <iframe allow=\"autoplay; encrypted-media\" allowfullscreen=\"\" height=\"315\" src=\"https://www.youtube.com/embed/-c4Xd7hZD1o\" width=\"560\"></iframe>\n",
       " </div>]"
      ]
     },
     "execution_count": 73,
     "metadata": {},
     "output_type": "execute_result"
    }
   ],
   "source": [
    "china2.find_all('div',attrs={'class':\"video-container\"})"
   ]
  },
  {
   "cell_type": "code",
   "execution_count": 74,
   "metadata": {},
   "outputs": [
    {
     "data": {
      "text/plain": [
       "1"
      ]
     },
     "execution_count": 74,
     "metadata": {},
     "output_type": "execute_result"
    }
   ],
   "source": [
    "len(china.find_all('div',attrs={'class':'photo-container'}))"
   ]
  },
  {
   "cell_type": "code",
   "execution_count": 23,
   "metadata": {},
   "outputs": [
    {
     "data": {
      "text/plain": [
       "'印度武漢肺炎疫苗接種進入倒數階段，英國牛津大學與阿斯特捷利康（AstraZeneca）藥廠開發的疫苗昨天獲印度中央藥物標準控制組織批准，預料很快獲藥品管制總局放行。為了讓2019冠狀病毒疾病（COVID-19，武漢肺炎）配送與接種更加順暢，印度繼日前在4省進行疫苗配送與接種預演後，今天起在全國所有省市預演，以找出可能的問題。印度斯坦時報（Hindustan Times）今天報導，印度中央藥物標準控制組織（Central Drugs Standard Control Organisation，CDSCO）10人專家委員會昨天決議，建議授予緊急使用許可給牛津大學與阿斯特捷利康藥廠開發、印度血清研究所（Serum Institute of India）製造的疫苗。這款疫苗在全球稱為AZD1222，但由印度血清研究所製造且打上血清研究所標誌的疫苗稱為Covishield，。這款疫苗在印度進行臨床實驗時，曾有嚴重損傷神經的副作用案例發生。CDSCO專家委員會在建議授予Covishield緊急使用許可時，提出附帶條件，要求印度血清研究所應密切監測接種疫苗產生的副作用，並在當局正式批准緊急使用這款疫苗的頭2個月，每15天提交報告給當局。知情人士透露，印度藥品管制總局（Drugs Controller General of India）正在評估CDSCO專家委員會授予Covishield緊急使用許可的建議報告。外界預料，由於這款疫苗日前已獲得英國批准，印度藥品管制總局可能很快就會放行。印度血清研究所日前表示，已準備好5000萬劑Covishield疫苗，1月可先提供政府1000萬劑疫苗。美國輝瑞藥廠（Pfizer）與德國生技公司BioNTech 開發的武漢肺炎疫苗也申請緊急使用許可，CDSCO專家委員會正在審查。這款疫苗已在去年12月獲多國批准緊急使用，瑞輝藥廠希望在印度巴拉特生物科技國際公司（Bharat Biotech）開發的本土疫苗獲得批准前，有更多時間提供11月中旬起在印度進行第3階段臨床試驗的數據給專家委員會。印度日前挑選4省就武漢肺炎疫苗配送和接種流程進行預演。印度快報（Indian Express）引述消息人士透露，預演中發現一些村莊的代碼沒有成功對應到用於疫苗接種管理、追蹤和登記的Co-WIN行動裝置軟體（app）資料庫，疫苗接種小組人員必須手動操作，而這些村莊大多地處偏僻。為解決問題，開發人員正在調整Co-WIN。印度也從今天起在全國各省市展開疫苗配送與接種流程預演。如果進展順利，印度可能最快下週就會展開武漢肺炎疫苗接種計畫，初期接種將針對第一線醫療與抗疫、防疫人員和年長者等高危險群，估計有3億人將接受首波疫苗接種。印度迄今武漢肺炎病例累計1028萬6709例，死亡達14萬8994人，是全球僅次於美國的疫情第2嚴重國家。每日新增病例已從高峰期的8、9萬例降低到2萬多例，疫情有趨緩跡象；但仍有少數省市疫情惡化，且迄今有25例感染英國變種病毒，當局呼籲民眾保持警惕。'"
      ]
     },
     "execution_count": 23,
     "metadata": {},
     "output_type": "execute_result"
    }
   ],
   "source": [
    "content"
   ]
  }
 ],
 "metadata": {
  "kernelspec": {
   "display_name": "Python 3",
   "language": "python",
   "name": "python3"
  },
  "language_info": {
   "codemirror_mode": {
    "name": "ipython",
    "version": 3
   },
   "file_extension": ".py",
   "mimetype": "text/x-python",
   "name": "python",
   "nbconvert_exporter": "python",
   "pygments_lexer": "ipython3",
   "version": "3.8.5"
  }
 },
 "nbformat": 4,
 "nbformat_minor": 4
}
