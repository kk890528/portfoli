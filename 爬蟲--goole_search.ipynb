{
 "cells": [
  {
   "cell_type": "code",
   "execution_count": 53,
   "metadata": {},
   "outputs": [],
   "source": [
    "import pandas as pd\n",
    "from selenium import webdriver\n",
    "from selenium.webdriver.chrome.options import Options\n",
    "import requests\n",
    "from bs4 import BeautifulSoup\n",
    "import time\n",
    "import random\n"
   ]
  },
  {
   "cell_type": "code",
   "execution_count": 220,
   "metadata": {},
   "outputs": [],
   "source": [
    "def google_search(x,n):\n",
    "    driver = webdriver.Chrome('chromedriver')\n",
    "    driver.get(f'https://www.google.com/search?q={x}')\n",
    "    next_page_times = n\n",
    "    http=[]\n",
    "    for _page in range(next_page_times):\n",
    "    \n",
    "        soup = BeautifulSoup(driver.page_source,'html.parser')\n",
    "        items=soup.find_all('div', attrs={'class':'yuRUbf'})\n",
    "\n",
    "        for i in items:\n",
    "            # 網址\n",
    "            h=i.find('a')['href']\n",
    "            if 'cdc.gov.tw' in h :\n",
    "                pass\n",
    "            else:\n",
    "                http.append(h)\n",
    "        # Wait\n",
    "        time.sleep(random.uniform(1, 5))\n",
    "\n",
    "        # Turn to the next page\n",
    "        try:\n",
    "            driver.find_element_by_link_text('下一頁').click()\n",
    "        except:\n",
    "            print('Search Early Stopping.')\n",
    "            driver.close()\n",
    "            exit()\n",
    "    driver.close()\n",
    "    return http"
   ]
  },
  {
   "cell_type": "code",
   "execution_count": 221,
   "metadata": {},
   "outputs": [
    {
     "data": {
      "text/plain": [
       "['https://www.economist.com/science-and-technology/2021/03/13/are-vaccine-passports-a-good-idea',\n",
       " 'https://www.economist.com/leaders/2021/03/18/how-europes-vaccine-caution-can-cost-lives',\n",
       " 'https://www.economist.com/international/2021/03/31/almost-one-billion-doses-of-covid-19-vaccines-have-been-produced',\n",
       " 'https://www.economist.com/finance-and-economics/2021/03/11/the-many-guises-of-vaccine-nationalism',\n",
       " 'https://www.economist.com/the-economist-explains/2021/03/22/what-do-covid-19-vaccine-efficacy-rates-really-mean',\n",
       " 'https://www.economist.com/technology-quarterly/2021/03/23/novel-vaccines-have-performed-remarkably-quickly-and-well',\n",
       " 'https://www.economist.com/leaders/2021/03/13/how-useful-are-vaccine-passports',\n",
       " 'https://www.economist.com/business/2021/03/06/how-companies-should-handle-vaccines',\n",
       " 'https://www.economist.com/asia/2021/03/27/india-and-china-are-finding-vaccine-diplomacy-tricky',\n",
       " 'https://www.economist.com/graphic-detail/2021/03/06/new-data-show-that-leading-covid-19-vaccines-have-similarly-high-efficacy',\n",
       " 'https://www.economist.com/europe/2021/03/25/the-eu-supports-tighter-rules-on-covid-19-vaccine-exports',\n",
       " 'https://www.economist.com/asia/2021/03/06/countries-that-curbed-covid-19-fast-have-been-slow-to-vaccinate',\n",
       " 'https://www.economist.com/1843/2021/03/29/forget-brexit-britain-is-winning-the-vaccine-world-cup',\n",
       " 'https://www.economist.com/graphic-detail/2021/03/22/increasingly-europeans-do-not-trust-astrazenecas-vaccine',\n",
       " 'https://espresso.economist.com/13d763a5838ca85acd2d4ff824ab03ea',\n",
       " 'https://www.economist.com/podcasts/2021/03/01/will-there-be-enough-vaccines',\n",
       " 'https://www.economist.com/briefing/2021/03/27/covid-19-vaccines-have-alerted-the-world-to-the-power-of-rna-therapies',\n",
       " 'https://www.economist.com/graphic-detail/2021/03/12/what-will-convince-the-never-jabbers',\n",
       " 'https://www.economist.com/middle-east-and-africa/2021/03/06/politicians-in-lebanon-jumped-the-queue-for-covid-19-vaccine',\n",
       " 'https://www.economist.com/briefing/2021/03/31/why-the-eus-covid-19-vaccination-programme-went-wrong',\n",
       " 'https://www.economist.com/europe/2021/03/13/a-protracted-swell-of-cases-highlights-europes-vaccine-problems',\n",
       " 'https://www.economist.com/science-and-technology/2021/03/23/american-officials-question-astrazenecas-vaccine-results',\n",
       " 'https://www.economist.com/international/2021/03/03/as-covid-19-vaccines-spread-so-do-underhand-ways-to-get-them',\n",
       " 'https://www.economist.com/britain/2021/03/20/britains-vaccine-roll-out-approaches-a-speed-bump',\n",
       " 'https://www.economist.com/the-americas/2021/03/06/vaccination-is-going-well-in-chile-why-not-its-neighbours',\n",
       " 'https://espresso.economist.com/bbc77a1cfac6902c0966cbf2959b9c02',\n",
       " 'https://espresso.economist.com/8f9091ab452b3613a295459b9ce0738b',\n",
       " 'https://www.economist.com/business/2021/03/06/companies-take-charge-of-germanys-vaccination-drive',\n",
       " 'https://www.economist.com/business/2021/03/03/a-billion-plus-covid-19-shots-in-2021-can-serum-institute-do-it',\n",
       " 'https://www.economist.com/films/2021/03/26/can-vaccine-passports-help-to-kickstart-economies',\n",
       " 'https://www.economist.com/science-and-technology/2021/03/15/eu-countries-pause-astrazenecas-covid-19-jab-over-safety-fears',\n",
       " 'https://www.economist.com/the-economist-explains/2021/03/17/should-children-be-vaccinated-against-covid-19',\n",
       " 'https://espresso.economist.com/2b31595206d7115ea2bcdc2a0fcd6757',\n",
       " 'https://www.economist.com/podcasts/2021/03/15/how-will-behaviour-change-as-more-people-receive-covid-19-vaccines',\n",
       " 'https://www.economist.com/podcasts/2021/03/25/vaccine-squabbles-will-feed-into-difficulties-over-the-after-effects-of-brexit-a-needling-row',\n",
       " 'https://www.economist.com/podcasts/2021/03/08/trials-and-tribulations-how-do-vaccine-trials-work-and-what-do-their-results-mean',\n",
       " 'https://www.economist.com/podcasts/2021/03/17/history-suggests-that-once-established-doubts-can-be-very-hard-to-shift-astrazeneca-vaccine-fears',\n",
       " 'https://www.economist.com/podcasts/the-jab-a-new-podcast-from-the-economist',\n",
       " 'https://www.economist.com/britain/2021/03/27/hopes-of-a-better-post-brexit-relationship-with-the-eu-are-fading',\n",
       " 'https://www.economist.com/podcasts/2021/03/10/it-could-be-done-in-a-secure-and-private-way-or-it-could-be-done-really-badly-vaccine-passports',\n",
       " 'https://espresso.economist.com/4458707eaea92785e478122f883f74b7',\n",
       " 'https://espresso.economist.com/029965943be49743e54fa5fdc79f8702',\n",
       " 'https://www.economist.com/science-and-technology/2021/03/18/honeybees-run-vaccination-programmes-too',\n",
       " 'https://www.economist.com/graphic-detail/2021/03/19/covid-19-cases-are-rising-again-in-much-of-the-world',\n",
       " 'https://www.economist.com/technology-quarterly/2021/03/23/watching-sars-cov-2-evolve-is-fascinating-and-frightening',\n",
       " 'https://www.economist.com/leaders/2021/03/31/how-europe-has-mishandled-the-pandemic',\n",
       " 'https://www.economist.com/leaders/2021/03/27/bright-side-of-the-moonshots',\n",
       " 'https://www.economist.com/middle-east-and-africa/2021/03/20/binyamin-netanyahu-hopes-to-win-yet-another-election-in-israel',\n",
       " 'https://www.economist.com/united-states/2021/03/18/despite-high-profile-failures-government-tech-is-slowly-improving',\n",
       " 'https://www.economist.com/technology-quarterly/2021/03/23/acknowledgments-and-further-reading']"
      ]
     },
     "execution_count": 221,
     "metadata": {},
     "output_type": "execute_result"
    }
   ],
   "source": [
    "google_search('vaccine after:2021-03-01 before:2021-03-31 site:economist.com',5)"
   ]
  },
  {
   "cell_type": "code",
   "execution_count": 214,
   "metadata": {},
   "outputs": [],
   "source": [
    "driver = webdriver.Chrome('chromedriver')"
   ]
  },
  {
   "cell_type": "code",
   "execution_count": 215,
   "metadata": {},
   "outputs": [],
   "source": [
    "query = '疫苗 after:2021-02-01 before:2021-02-20 site:chinatimes.com'"
   ]
  },
  {
   "cell_type": "code",
   "execution_count": 216,
   "metadata": {},
   "outputs": [],
   "source": [
    "driver.get(f'https://www.google.com/search?q={query}')"
   ]
  },
  {
   "cell_type": "code",
   "execution_count": 217,
   "metadata": {},
   "outputs": [],
   "source": [
    "next_page_times = 10\n",
    "http=[]"
   ]
  },
  {
   "cell_type": "code",
   "execution_count": 143,
   "metadata": {},
   "outputs": [],
   "source": [
    "#soup"
   ]
  },
  {
   "cell_type": "code",
   "execution_count": 218,
   "metadata": {},
   "outputs": [],
   "source": [
    "for _page in range(next_page_times):\n",
    "    \n",
    "    soup = BeautifulSoup(driver.page_source,'html.parser')\n",
    "    items=soup.find_all('div', attrs={'class':'yuRUbf'})\n",
    "\n",
    "    for i in items:\n",
    "        # 網址\n",
    "        h=i.find('a')['href']\n",
    "        if 'cdc.gov.tw' in h :\n",
    "            pass\n",
    "        else:\n",
    "            http.append(h)\n",
    "    # Wait\n",
    "    time.sleep(random.uniform(1, 5))\n",
    "\n",
    "    # Turn to the next page\n",
    "    try:\n",
    "        driver.find_element_by_link_text('下一頁').click()\n",
    "    except:\n",
    "        print('Search Early Stopping.')\n",
    "        driver.close()\n",
    "        exit()\n",
    "\n",
    "\n",
    "# Close the browser\n",
    "driver.close()"
   ]
  },
  {
   "cell_type": "code",
   "execution_count": 211,
   "metadata": {},
   "outputs": [
    {
     "data": {
      "text/plain": [
       "False"
      ]
     },
     "execution_count": 211,
     "metadata": {},
     "output_type": "execute_result"
    }
   ],
   "source": [
    "#'cdc.gov.tw' in http[5] \n"
   ]
  },
  {
   "cell_type": "code",
   "execution_count": 212,
   "metadata": {},
   "outputs": [
    {
     "data": {
      "text/plain": [
       "'https://www.chinatimes.com/realtimenews/20210205003507-260405'"
      ]
     },
     "execution_count": 212,
     "metadata": {},
     "output_type": "execute_result"
    }
   ],
   "source": [
    "#h"
   ]
  },
  {
   "cell_type": "code",
   "execution_count": 213,
   "metadata": {},
   "outputs": [
    {
     "data": {
      "text/plain": [
       "20"
      ]
     },
     "execution_count": 213,
     "metadata": {},
     "output_type": "execute_result"
    }
   ],
   "source": [
    "len(http)"
   ]
  }
 ],
 "metadata": {
  "kernelspec": {
   "display_name": "Python 3",
   "language": "python",
   "name": "python3"
  },
  "language_info": {
   "codemirror_mode": {
    "name": "ipython",
    "version": 3
   },
   "file_extension": ".py",
   "mimetype": "text/x-python",
   "name": "python",
   "nbconvert_exporter": "python",
   "pygments_lexer": "ipython3",
   "version": "3.8.5"
  }
 },
 "nbformat": 4,
 "nbformat_minor": 4
}
