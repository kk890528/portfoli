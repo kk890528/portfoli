{
 "cells": [
  {
   "cell_type": "markdown",
   "metadata": {
    "id": "RgvGOHQaOEuT"
   },
   "source": [
    "# 問題意識：如何讓AI可以寫國文閱讀測驗題目\n",
    "#### 方法:目前預計使用google的bert模型來進行預測，但由於bert的訓練方式是克漏字選填與預測下一句話，與閱讀測驗不太相似。所以方法一我們打算把閱讀測驗分成一句一句後，丟進bert做鑲嵌訓練，得到它的詞向量後。再把問題與選項連在一起，也丟給bert做鑲嵌訓練(每個選項分開做一次)，也取他的詞向量。對於文章與ABCD的詞向量進行餘弦相似度測驗後，看與文章中每句的相似度，【選出每個選項最高的分數，比較後最高者為答案】\n",
    "\n",
    "\n"
   ]
  },
  {
   "cell_type": "markdown",
   "metadata": {
    "id": "V0UpIigwcZn0"
   },
   "source": [
    "\n",
    "題目的資料來源為教育部全國中小學題庫網以及教育部所公布之歷屆會考題(均已確認智慧財產權，是合法的別擔心)\n",
    "\n",
    "資料收集與整理方面，收集題庫網內從國一至國三的題目，以工人智慧的方式純手工打造(key到excel上)，選擇出閱讀測業題目後去除空格、轉為csv檔後，再丟入下述的程式轉換為bert所需格式([SEP]and[CLS])，之後再將所欲使用之資料轉換為向量，即可輸入程式"
   ]
  },
  {
   "cell_type": "markdown",
   "metadata": {
    "id": "z0hbsXyfhVGs"
   },
   "source": [
    "### 例題（短文）：\n",
    "##### 「如果每個人都是特別的，那就沒有一個特別；如果每個人都得到一個獎杯，獎杯就變得毫無意義。生活最甜美的樂趣，在於承認自己並不特別。」這段文字的涵義，與下列何者最接近？\n",
    "##### (A)不要強調自己與眾不同\n",
    "##### (B)追逐名利其實毫無意義\n",
    "##### (C)認真生活才有甜美的樂趣\n",
    "##### (D)生活樂在發掘他人的特別\n",
    "##### 答案（Ａ）\n",
    "### 例題（長文）﹕\n",
    "##### 有些科學家提出「獵人與農夫」的理論，認為ADHD者（注意力缺失的過動 兒）其實沒有毛病，只是生錯了時空。現在所謂注意力缺失者的特徵――容易分 心、衝動、冒險性強，其實是遠古打獵採集時生存必要的特徵。當人類進化到農 業社會以後，這些特徵才變得格格不入。也就是說，他們是「獵人」，但是要在 「農夫」的社會裡討生活，往往會被視為異類。 這個理論認為，一萬二千年前，人類走向農業生活開始定居下來後，環境 的改變使得過去的長處變成現在的短處。在遠古時代，如果不眼觀四面，耳聽八方，早就被其他動物吃掉了，不可能成為我們的祖先；如果事情發生不馬上採取 行動，而是三思而後行的話，也只能變成別人的晚餐，活不到成為我們的祖先。而現在學者又把ADHD者叫做有愛迪生基因者，他們的特徵是：思想跳躍、 容易分心、精力旺盛、沒有條理、不耐煩、易衝動、很外向、敢冒險、會發明、 有創造力，而且通常還有領袖魅力。 他們注意力很短暫，但對感興趣的事物可以專注很久，這不是和獵人要一 直不停搜索四周，一旦發現獵物就馬上集中注意力然後追蹤下去相同嗎？他們組 織力不強，沒有條理，很衝動，想到什麼做什麼――獵人不就是看到獵物得馬上拔腿就追嗎？他們沒有時間觀念，不知道做一件事需要花多少時間――這其實是 表示有彈性，一個人的心意如果隨時可變，那就不需要知道時間。他們容易不耐 煩，不能聽從老師的指示――這其實是獵人獨立行事的特性。 上述的理論與觀點尚待可靠證據支持，但如果我們願意換一個角度來看 ADHD者，他們可能並沒有毛病，只是現在教育制度的限制，未必符合他們的天性罷了。\n",
    "\n",
    "##### 34.(\t )下列對於ADHD者的敘述，何者最符合作者原意？\n",
    "##### (A)發明家往往是ADHD者\n",
    "##### (B)不宜以異類眼光看待ADHD者\n",
    "##### (C) ADHD者擁有比一般人優秀的基因\n",
    "##### (D)缺乏打獵機會是現代ADHD者的悲哀\n",
    "\n",
    "\n",
    "\n",
    "##### 35.(\t )下列敘述，何者與本文內涵最不相關？\n",
    "##### (A)強調現代人應培養多元能力，以順應社會趨勢\n",
    "##### (B)推測ADHD者的特徵可上溯自遠古人類的行為\n",
    "##### (C)引述學者意見，說明注意力缺失者的行為特徵\n",
    "##### (D)呼籲教育者應以寬廣的視角引領孩子適性發展\n"
   ]
  },
  {
   "cell_type": "markdown",
   "metadata": {
    "id": "08HIsdIlkBN_"
   },
   "source": [
    "#### 在與老師進行多次討論之後，我們決定使用google的bert的模型來進行預測，原因是因為NLP太過複雜，依照我們的設備、時間、金費都很難自己從頭訓練一個，所以決定用Bert來接，但由於bert的訓練方式是克漏字選填與預測下一句話，這種詞句鑲嵌的訓練方式，與閱讀測驗不太相似，為此，我們想了兩個方法來進行預測"
   ]
  },
  {
   "cell_type": "markdown",
   "metadata": {
    "id": "hg1qz862OE2Q"
   },
   "source": [
    "# 方法一：\n",
    "#### 我們先透過資料整理，將資料用成Bert可接受的形式，然後再用BertForMultipleChoice得出對應之token，之後使用Fine-tuning給他進行後端訓練\n",
    "\n",
    "\n",
    "# 舉例(數字隨便說的)：\n",
    "#### 文章：一個幽靈，共產主義的幽靈，在歐洲遊蕩。為了對這個幽靈進行神聖的圍剿，舊歐洲的一切勢力，教皇和沙皇、梅特涅和基佐、法國的激進派和德國的警察，都聯合起來了。\n",
    "#### 問題：什麼的幽靈在歐洲遊蕩？\n",
    "#### A：共產主義的幽靈\n",
    "#### B：中華民國的幽靈\n",
    "##### 文章以句號切成兩句 -> [CLS]+句子+[SEP]->所以整個文章轉成：[CLS]一個幽靈，共產主義的幽靈，在歐洲遊蕩。[SEP][CLS]為了對這個幽靈進行神聖的圍剿，舊歐洲的一切勢力，教皇和沙皇、梅特涅和基佐、法國的激進派和德國的警察，都聯合起來了。[SEP]\n",
    "##### 問題+A -> bert -> 一個句向量 -> A向量\n",
    "##### 問題+B -> bert -> 一個句向量 -> B向量\n",
    "##### [向量1,向量2]與向量A進行餘弦相似度計算 ->得到分數 [0.8,0.4]\n",
    "##### [向量1,向量2]與向量B進行餘弦相似度計算 ->得到分數 [0.5,0.6]\n",
    "##### 每個選項選出最大的一個，有就是0.8和0.6，由於0.8>0.6故選A\n",
    "\n"
   ]
  },
  {
   "cell_type": "markdown",
   "metadata": {
    "id": "vrtkzm-Ijvop"
   },
   "source": [
    "## 題目類型1：文章理解\n",
    "#### e.g. 這篇文主主旨為何？\n",
    "## 題目類型2：文章解析\n",
    "#### e.g. 根據本文，下列關於淡水河水域的敘述，何者正確？\n",
    "## 題目類型3：詞意解析\n",
    "#### e.g. 這段文字的涵義，與下列何者最接近？\n",
    "## 題目類型4：選出錯的\n",
    "#### e.g. 有關下列敘述，何者錯誤？"
   ]
  },
  {
   "cell_type": "code",
   "execution_count": 3,
   "metadata": {
    "colab": {
     "base_uri": "https://localhost:8080/",
     "height": 389
    },
    "id": "vd45x1_VBTgT",
    "outputId": "b6d88a7f-2cd7-4ef8-b395-3144a0c00abb"
   },
   "outputs": [],
   "source": [
    "import pandas as pd\n",
    "import re\n",
    "df=pd.read_excel('題目統整.xlsx',header=0)\n",
    "df=pd.DataFrame(df)\n"
   ]
  },
  {
   "cell_type": "markdown",
   "metadata": {
    "id": "UOniSGlDjbHA"
   },
   "source": [
    "#### Data_國中生國文段考題目"
   ]
  },
  {
   "cell_type": "code",
   "execution_count": null,
   "metadata": {
    "colab": {
     "base_uri": "https://localhost:8080/",
     "height": 208
    },
    "id": "9A4cETTHjbHC",
    "outputId": "69da757f-4598-4bd3-9de2-0bca0839f09f"
   },
   "outputs": [
    {
     "data": {
      "text/plain": [
       "科目                                                      國文\n",
       "文章內容     這三天來都被四面八方傳來的雲雀歌聲引出了門外。這樣明麗的天光,這樣輕快的天樂,誰還坐得住在書...\n",
       "題目                                     關於這段文句的解析,下列敘述何者正確?\n",
       "選項(A)                                   運用嗅覺與味覺來摹寫草木與陽光的香氣\n",
       "選項(B)                                   以水晶、寶玉來比擬周遭景觀的晶瑩明亮\n",
       "選項(C)                                 透過各種繽紛的色彩描繪田園中的陽光與大地\n",
       "選項(D)                                 以水晶、佩玉般的清脆聲音描摹陽光下的溪流\n",
       "題目類型                                                  文章解析\n",
       "答案                                                       B\n",
       "文章長度                                                     短\n",
       "Name: 0, dtype: object"
      ]
     },
     "execution_count": 4,
     "metadata": {
      "tags": []
     },
     "output_type": "execute_result"
    }
   ],
   "source": [
    "df.iloc[0,]"
   ]
  },
  {
   "cell_type": "markdown",
   "metadata": {
    "id": "00Se_9uwjbHL"
   },
   "source": [
    "##### 資料整理\n",
    "* 要把資料轉成可給Bert訓練的格式。文章先以標點符號切句，並把NA去除。\n",
    "* 閱讀測驗文章格式：[CLS]+句子+[SEP]\n",
    "* 問題選項格式：[CLS]+題目+[SEP]+選項"
   ]
  },
  {
   "cell_type": "code",
   "execution_count": null,
   "metadata": {
    "id": "-oKUlh4VjbHM"
   },
   "outputs": [],
   "source": [
    "def dot_change(x):\n",
    "  try:\n",
    "    X=x.replace(',','，')\n",
    "    return X\n",
    "  except: \n",
    "      return x\n"
   ]
  },
  {
   "cell_type": "code",
   "execution_count": null,
   "metadata": {
    "id": "6lA2mDR3jbHS"
   },
   "outputs": [],
   "source": [
    "for i in range(len(df.columns)):\n",
    "  df.iloc[:,i]=df.iloc[:,i].map(dot_change)\n",
    "#逗號清除"
   ]
  },
  {
   "cell_type": "code",
   "execution_count": null,
   "metadata": {
    "id": "P6hT4Dc_jbHY"
   },
   "outputs": [],
   "source": [
    "df.dropna(axis=0,inplace=True) \n",
    "#清除NA"
   ]
  },
  {
   "cell_type": "code",
   "execution_count": null,
   "metadata": {
    "id": "G1b98To4jbHe"
   },
   "outputs": [],
   "source": [
    "df.reset_index(inplace=True)"
   ]
  },
  {
   "cell_type": "code",
   "execution_count": null,
   "metadata": {
    "id": "0WBwpxH6jbHj"
   },
   "outputs": [],
   "source": [
    "def text_change(X):\n",
    "  y=\"[CLS]\" + X + \"[SEP]\"\n",
    "  return y\n",
    "def text_change2(x):\n",
    "  text=re.split('[。,！,？,?]',x)\n",
    "  text2=list(map(text_change,text))\n",
    "  return text2"
   ]
  },
  {
   "cell_type": "code",
   "execution_count": null,
   "metadata": {
    "id": "_c2gVUh1jbHs"
   },
   "outputs": [],
   "source": [
    "df['文章內容']=df['文章內容'].map(text_change2)\n"
   ]
  },
  {
   "cell_type": "code",
   "execution_count": null,
   "metadata": {
    "colab": {
     "base_uri": "https://localhost:8080/",
     "height": 225
    },
    "id": "DPnfDOCCxk92",
    "outputId": "4aff0d11-4114-4e23-a366-669a1a954cdd"
   },
   "outputs": [
    {
     "data": {
      "text/plain": [
       "0      ['[CLS]這三天來都被四面八方傳來的雲雀歌聲引出了門外[SEP]', '[CLS]這樣明...\n",
       "1      ['[CLS]寫作題材何處尋[SEP]', '[CLS]其實，你我周遭就有許多溫潤動人的故事...\n",
       "2      ['[CLS]有一天，父親嚴肅地對我說:『山林是布農男人奔馳和吶喊的地方，除了用腳印標示及保...\n",
       "3      ['[CLS]鮪魚喜歡較溫暖的海水，常利用洋流洄游[SEP]', '[CLS]鮪魚的鮪魚喜歡...\n",
       "4      ['[CLS]極偏僻又極佳美的小地方，往往沒有指南，尤其處於不甚有名的國家[SEP]', '...\n",
       "                             ...                        \n",
       "880    ['[CLS]「這些童年吃冰的記憶，如今多已消失殆盡，這一代的小孩再也無從體會那種樂趣[SE...\n",
       "881    ['[CLS]在我星期四的繪畫班中，有位學生每次上課總要帶許多玉蘭花分給同學，所以一到星期四...\n",
       "882    ['[CLS]在我星期四的繪畫班中，有位學生每次上課總要帶許多玉蘭花分給同學，所以一到星期四...\n",
       "883    ['[CLS]現代人吃冰是理所當然的一件事，不過古人沒有冰箱怎麼吃冰呢[SEP]', '[C...\n",
       "884    ['[CLS]現代人吃冰是理所當然的一件事，不過古人沒有冰箱怎麼吃冰呢[SEP]', '[C...\n",
       "Name: 文章內容, Length: 885, dtype: object"
      ]
     },
     "execution_count": 11,
     "metadata": {
      "tags": []
     },
     "output_type": "execute_result"
    }
   ],
   "source": [
    "##將處理好的資料轉為string，以便之後預測使用\n",
    "a=df['文章內容'].astype(str)\n",
    "a"
   ]
  },
  {
   "cell_type": "markdown",
   "metadata": {
    "id": "QZuL-3-WgM-b"
   },
   "source": [
    "##### 將文章內容、題目及選項合併"
   ]
  },
  {
   "cell_type": "code",
   "execution_count": null,
   "metadata": {
    "id": "QcNt7ynIVcQI"
   },
   "outputs": [],
   "source": [
    "##將文章內容、題目及選項合併\n",
    "def question_choice(content,question,choice):\n",
    "  question_choice=\"[CLS]\"+content+'[SEP]'+question+'[SEP]'+choice+\"[SEP]\"\n",
    "  #print('%d'%(question_choice) , end='\\r')\n",
    "  return question_choice"
   ]
  },
  {
   "cell_type": "code",
   "execution_count": null,
   "metadata": {
    "id": "n6pkC2NSrt7c"
   },
   "outputs": [],
   "source": [
    "df['A']=question_choice(a,df['題目'],df['選項(A)'])\n",
    "df['B']=question_choice(a,df['題目'],df['選項(B)'])\n",
    "df['C']=question_choice(a,df['題目'],df['選項(C)'])\n",
    "df['D']=question_choice(a,df['題目'],df['選項(D)'])\n"
   ]
  },
  {
   "cell_type": "markdown",
   "metadata": {
    "id": "YgtaKniiv2TO"
   },
   "source": [
    "### Data_國中會考題"
   ]
  },
  {
   "cell_type": "code",
   "execution_count": null,
   "metadata": {
    "id": "BeALCSwewFbK"
   },
   "outputs": [],
   "source": [
    "df1=pd.read_excel('會考 訓練題庫.xlsx',header=0)\n",
    "df1=pd.DataFrame(df1)\n"
   ]
  },
  {
   "cell_type": "markdown",
   "metadata": {
    "id": "VvwvT_b9J9BT"
   },
   "source": [
    "#### 資料整理\n"
   ]
  },
  {
   "cell_type": "code",
   "execution_count": null,
   "metadata": {
    "id": "boaEVwUFJ9Bi"
   },
   "outputs": [],
   "source": [
    "def dot_change(x):\n",
    "  try:\n",
    "    X=x.replace(',','，')\n",
    "    return X\n",
    "  except: \n",
    "      return x\n"
   ]
  },
  {
   "cell_type": "code",
   "execution_count": null,
   "metadata": {
    "id": "JsEJ9JkeJ9Bu"
   },
   "outputs": [],
   "source": [
    "for i in range(len(df1.columns)):\n",
    "  df1.iloc[:,i]=df1.iloc[:,i].map(dot_change)\n",
    "#逗號清除"
   ]
  },
  {
   "cell_type": "code",
   "execution_count": null,
   "metadata": {
    "id": "QFfzJZPJJ9B0"
   },
   "outputs": [],
   "source": [
    "df1.dropna(axis=0,inplace=True) \n",
    "#清除NA"
   ]
  },
  {
   "cell_type": "code",
   "execution_count": null,
   "metadata": {
    "id": "bfJUX2TaJ9B6"
   },
   "outputs": [],
   "source": [
    "df1.reset_index(inplace=True)"
   ]
  },
  {
   "cell_type": "code",
   "execution_count": null,
   "metadata": {
    "id": "dgCUcG0zJ9B_"
   },
   "outputs": [],
   "source": [
    "def text_change(X):\n",
    "  y=\"[CLS]\" + X + \"[SEP]\"\n",
    "  return y\n",
    "def text_change2(x):\n",
    "  text=re.split('[。,！,？,?]',x)\n",
    "  text2=list(map(text_change,text))\n",
    "  return text2"
   ]
  },
  {
   "cell_type": "code",
   "execution_count": null,
   "metadata": {
    "id": "J8KJTxlVJ9CE"
   },
   "outputs": [],
   "source": [
    "df1['文章內容']=df1['文章內容'].map(text_change2)\n"
   ]
  },
  {
   "cell_type": "code",
   "execution_count": null,
   "metadata": {
    "colab": {
     "base_uri": "https://localhost:8080/",
     "height": 225
    },
    "id": "a2DMDlh0J9CJ",
    "outputId": "a007a351-ba43-4c15-d900-47b9c78cd6ca"
   },
   "outputs": [
    {
     "data": {
      "text/plain": [
       "0      ['[CLS]「彼此無所求的朋友，才可能是真正的朋友[SEP]', '[CLS]」[SEP]']\n",
       "1     ['[CLS]「常常我們只記得結果的不完美，卻忘記收穫滿滿的過程[SEP]', '[CLS]...\n",
       "2     ['[CLS]「漢朝刺史巡視的要點有六：一看地方豪強是否恃強凌弱，二看郡守、公侯是否 損公肥...\n",
       "3     ['[CLS]巴提族人群居在巴基斯坦北部最險惡的高山河谷，六百年前來自西藏[SEP]', '...\n",
       "4     ['[CLS]宣紙有生熟之別，互有利弊，各隨所好而已[SEP]', '[CLS]生紙易滲水墨...\n",
       "                            ...                        \n",
       "59    ['[CLS]三十年前，一個年輕人離開故鄉，開始創造自己的前途[SEP]', '[CLS]少...\n",
       "60    ['[CLS]我是很晚才使用電腦的那種今之古人[SEP]', '[CLS]四十歲以前，我總覺...\n",
       "61    ['[CLS]我是很晚才使用電腦的那種今之古人[SEP]', '[CLS]四十歲以前，我總覺...\n",
       "62    ['[CLS]雪山山脈主脊，從大霸尖山到雪山主峰之間，是一段長達 15 公里，充滿挑 戰的長...\n",
       "63    ['[CLS]雪山山脈主脊，從大霸尖山到雪山主峰之間，是一段長達 15 公里，充滿挑 戰的長...\n",
       "Name: 文章內容, Length: 64, dtype: object"
      ]
     },
     "execution_count": 46,
     "metadata": {
      "tags": []
     },
     "output_type": "execute_result"
    }
   ],
   "source": [
    "b=df1['文章內容'].astype(str)\n",
    "b"
   ]
  },
  {
   "cell_type": "markdown",
   "metadata": {
    "id": "tVc6cm_igTUX"
   },
   "source": [
    "####將文章內容、題目及選項合併"
   ]
  },
  {
   "cell_type": "code",
   "execution_count": null,
   "metadata": {
    "id": "RZaCCrlNJ9CT"
   },
   "outputs": [],
   "source": [
    "def question_choice(content,question,choice):\n",
    "  question_choice=\"[CLS]\"+content+'[SEP]'+question+'[SEP]'+choice+\"[SEP]\"\n",
    "  #print('%d'%(question_choice) , end='\\r')\n",
    "  return question_choice"
   ]
  },
  {
   "cell_type": "code",
   "execution_count": null,
   "metadata": {
    "id": "BMZQLJZBJ9CZ"
   },
   "outputs": [],
   "source": [
    "df1['A']=question_choice(b,df1['題目'],df1['選項(A)'])\n",
    "df1['B']=question_choice(b,df1['題目'],df1['選項(B)'])\n",
    "df1['C']=question_choice(b,df1['題目'],df1['選項(C)'])\n",
    "df1['D']=question_choice(b,df1['題目'],df1['選項(D)'])\n"
   ]
  },
  {
   "cell_type": "markdown",
   "metadata": {
    "id": "Ygyk4C_5KpcN"
   },
   "source": [
    "#### 進行預測\n",
    "\n",
    "\n"
   ]
  },
  {
   "cell_type": "markdown",
   "metadata": {
    "id": "DNWGll5XOFSL"
   },
   "source": [
    "# 方法\n",
    "#### 肇因於前一個方法我們原本使用Fine-tuning給他進行後端訓練，結果並不是太好(比亂猜還糟糕)，所以我們覺得用另一種方法，不進行後端訓練，直接讓Bert pretrained來做。格式與前一個方法類似，首先我們打算把閱讀測驗文章分成一句一句後，丟進Bert做鑲嵌訊練，得到他的詞向量後。在把問題與選項連在一起後，也丟去給Bert做鑲嵌訓練(每個選項分開做一次)，也取他的詞向量。對於文章與ABCD的詞向量進行餘弦相似度測驗後，看與文章中每句的相似度，【選出每個選項最高的分數，比較最高的就是答案】"
   ]
  },
  {
   "cell_type": "code",
   "execution_count": null,
   "metadata": {
    "colab": {
     "base_uri": "https://localhost:8080/",
     "height": 41,
     "resources": {
      "http://localhost:8080/nbextensions/google.colab/files.js": {
       "data": "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",
       "headers": [
        [
         "content-type",
         "application/javascript"
        ]
       ],
       "ok": true,
       "status": 200,
       "status_text": ""
      }
     }
    },
    "id": "v1VZj4QPNfT3",
    "outputId": "b6330273-20db-4a86-ed6a-951f7590072c"
   },
   "outputs": [
    {
     "data": {
      "text/html": [
       "\n",
       "     <input type=\"file\" id=\"files-9e7e4f8c-16e0-48cb-bd5c-d80f9cb49480\" name=\"files[]\" multiple disabled />\n",
       "     <output id=\"result-9e7e4f8c-16e0-48cb-bd5c-d80f9cb49480\">\n",
       "      Upload widget is only available when the cell has been executed in the\n",
       "      current browser session. Please rerun this cell to enable.\n",
       "      </output>\n",
       "      <script src=\"/nbextensions/google.colab/files.js\"></script> "
      ],
      "text/plain": [
       "<IPython.core.display.HTML object>"
      ]
     },
     "metadata": {
      "tags": []
     },
     "output_type": "display_data"
    }
   ],
   "source": [
    "from google.colab import files\n",
    "uploaded = files.upload()"
   ]
  },
  {
   "cell_type": "code",
   "execution_count": null,
   "metadata": {
    "colab": {
     "base_uri": "https://localhost:8080/",
     "height": 345
    },
    "id": "zDlOjheTOeBl",
    "outputId": "11f8da4a-e52f-44f3-a613-1c8cff52a4a1"
   },
   "outputs": [
    {
     "ename": "ModuleNotFoundError",
     "evalue": "ignored",
     "output_type": "error",
     "traceback": [
      "\u001b[0;31m---------------------------------------------------------------------------\u001b[0m",
      "\u001b[0;31mModuleNotFoundError\u001b[0m                       Traceback (most recent call last)",
      "\u001b[0;32m<ipython-input-2-ec5ba9a4fee3>\u001b[0m in \u001b[0;36m<module>\u001b[0;34m()\u001b[0m\n\u001b[1;32m      3\u001b[0m \u001b[0;32mimport\u001b[0m \u001b[0mre\u001b[0m\u001b[0;34m\u001b[0m\u001b[0;34m\u001b[0m\u001b[0m\n\u001b[1;32m      4\u001b[0m \u001b[0;32mimport\u001b[0m \u001b[0mtorch\u001b[0m\u001b[0;34m\u001b[0m\u001b[0;34m\u001b[0m\u001b[0m\n\u001b[0;32m----> 5\u001b[0;31m \u001b[0;32mfrom\u001b[0m \u001b[0mpytorch_pretrained_bert\u001b[0m \u001b[0;32mimport\u001b[0m \u001b[0mBertTokenizer\u001b[0m\u001b[0;34m,\u001b[0m \u001b[0mBertModel\u001b[0m\u001b[0;34m,\u001b[0m \u001b[0mBertForMaskedLM\u001b[0m\u001b[0;34m\u001b[0m\u001b[0;34m\u001b[0m\u001b[0m\n\u001b[0m",
      "\u001b[0;31mModuleNotFoundError\u001b[0m: No module named 'pytorch_pretrained_bert'",
      "",
      "\u001b[0;31m---------------------------------------------------------------------------\u001b[0;32m\nNOTE: If your import is failing due to a missing package, you can\nmanually install dependencies using either !pip or !apt.\n\nTo view examples of installing some common dependencies, click the\n\"Open Examples\" button below.\n\u001b[0;31m---------------------------------------------------------------------------\u001b[0m\n"
     ]
    }
   ],
   "source": [
    "import numpy as np\n",
    "import pandas as pd \n",
    "import re\n",
    "import torch\n",
    "from pytorch_pretrained_bert import BertTokenizer, BertModel, BertForMaskedLM"
   ]
  },
  {
   "cell_type": "code",
   "execution_count": null,
   "metadata": {
    "id": "1pJvcCXaMWoL"
   },
   "outputs": [],
   "source": [
    "df=pd.read_excel('題目統整.xlsx',header=0)"
   ]
  },
  {
   "cell_type": "markdown",
   "metadata": {
    "id": "x-eZ7uyq0vNv"
   },
   "source": [
    "## 資料整理\n",
    "##### 要把資料轉成可給Bert訓練的格式。文章先以標點符號切句，必把NA去除。\n",
    "##### 閱讀測驗文章格式：[CLS]+句子+[SEP]\n",
    "##### 問題選項格式：[CLS]+題目+[SEP]+選項+[SEP]\n",
    "##### 問題格式：[CLS]+題目+[SEP]"
   ]
  },
  {
   "cell_type": "code",
   "execution_count": null,
   "metadata": {
    "colab": {
     "base_uri": "https://localhost:8080/",
     "height": 212
    },
    "id": "-ScWg74jN0PO",
    "outputId": "2bc93880-3eae-4cb4-dade-f98ef44779eb"
   },
   "outputs": [
    {
     "data": {
      "text/plain": [
       "科目                            國文\n",
       "文章內容       「彼此無所求的朋友，才可能是真正的朋友。」\n",
       "題目              這句話 的涵義與下列何者最接近？\n",
       "選項(A)        (A)交往若帶有目的，就不是真正的友誼\n",
       "選項(B)       (B)在朋友困難時伸出援手，才能得到回報\n",
       "選項(C)      (C)想獲得朋友，須自己先成為值得結交的人\n",
       "選項(D)    (D)人生有許多事不能獨自完成，可知友誼的重要\n",
       "題目類型                        詞意理解\n",
       "答案                             A\n",
       "文章長度                           短\n",
       "Name: 0, dtype: object"
      ]
     },
     "execution_count": 59,
     "metadata": {
      "tags": []
     },
     "output_type": "execute_result"
    }
   ],
   "source": [
    "df.iloc[0,]"
   ]
  },
  {
   "cell_type": "code",
   "execution_count": null,
   "metadata": {
    "id": "tRFe0b8PIoyM"
   },
   "outputs": [],
   "source": [
    "df.head()"
   ]
  },
  {
   "cell_type": "markdown",
   "metadata": {
    "id": "0aKuLyxv4X6U"
   },
   "source": [
    "## 資料整理"
   ]
  },
  {
   "cell_type": "code",
   "execution_count": null,
   "metadata": {
    "id": "o9EKQIBH1OZG"
   },
   "outputs": [],
   "source": [
    "def dot_change(x):\n",
    "  try:\n",
    "    X=x.replace(',','，')\n",
    "    return x\n",
    "  except: \n",
    "      return x\n"
   ]
  },
  {
   "cell_type": "code",
   "execution_count": null,
   "metadata": {
    "id": "IQ_l0d-l2h5t"
   },
   "outputs": [],
   "source": [
    "for i in range(len(df.columns)):\n",
    "  df.iloc[:,i]=df.iloc[:,i].map(dot_change)\n",
    "#逗號清除"
   ]
  },
  {
   "cell_type": "code",
   "execution_count": null,
   "metadata": {
    "id": "7-pzEdIB5DYz"
   },
   "outputs": [],
   "source": [
    "df.dropna(axis=0,inplace=True) \n",
    "#清除NA"
   ]
  },
  {
   "cell_type": "code",
   "execution_count": null,
   "metadata": {
    "id": "BD1vQRwIQ2AI"
   },
   "outputs": [],
   "source": [
    "df.reset_index(inplace=True)"
   ]
  },
  {
   "cell_type": "code",
   "execution_count": null,
   "metadata": {
    "id": "B4DkmJlEAaDP"
   },
   "outputs": [],
   "source": [
    "def question_choice(question,choice):\n",
    "  question_choice=\"[CLS]\"+question+'[SEP]'+choice+\"[SEP]\"\n",
    "  return question_choice"
   ]
  },
  {
   "cell_type": "code",
   "execution_count": null,
   "metadata": {
    "id": "MsM5LNCLBCj2"
   },
   "outputs": [],
   "source": [
    "df['A']=question_choice(df['題目'],df['選項(A)'])\n",
    "df['B']=question_choice(df['題目'],df['選項(B)'])\n",
    "df['C']=question_choice(df['題目'],df['選項(C)'])\n",
    "df['D']=question_choice(df['題目'],df['選項(D)'])"
   ]
  },
  {
   "cell_type": "code",
   "execution_count": null,
   "metadata": {
    "id": "xlsDKmqbIXFD"
   },
   "outputs": [],
   "source": [
    "def text_change(X):\n",
    "  y=\"[CLS]\" + X + \"[SEP]\"\n",
    "  return y\n",
    "def text_change2(x):\n",
    "  text=re.split('[。,！,？,?]',x)\n",
    "  text2=list(map(text_change,text))\n",
    "  return text2"
   ]
  },
  {
   "cell_type": "code",
   "execution_count": null,
   "metadata": {
    "id": "a61Hj2OOK-rN"
   },
   "outputs": [],
   "source": [
    "df['文章內容']=df['文章內容'].map(text_change2)"
   ]
  },
  {
   "cell_type": "code",
   "execution_count": null,
   "metadata": {
    "id": "RrO3jsVZFxKU"
   },
   "outputs": [],
   "source": [
    "#製作題目格式\n",
    "Q=[]\n",
    "for i in range(len(df)):\n",
    "  q=text_change(df['題目'][i])\n",
    "  Q.append(q)\n",
    "df['Q']=Q"
   ]
  },
  {
   "cell_type": "code",
   "execution_count": null,
   "metadata": {
    "id": "M_722rn20Gdn"
   },
   "outputs": [],
   "source": [
    "df.head()"
   ]
  },
  {
   "cell_type": "markdown",
   "metadata": {
    "id": "AeQRDMx1nt4W"
   },
   "source": [
    "# 方案一\n",
    "# 舉例(數字隨便說的)：\n",
    "#### 文章：一個幽靈，共產主義的幽靈，在歐洲遊蕩。為了對這個幽靈進行神聖的圍剿，舊歐洲的一切勢力，教皇和沙皇、梅特涅和基佐、法國的激進派和德國的警察，都聯合起來了。\n",
    "#### 問題：什麼的幽靈在歐洲遊蕩？\n",
    "#### A：共產主義的幽靈\n",
    "#### B：中華民國的幽靈\n",
    "##### 文章以句號切成兩句 -> bert -> 轉成2句向量(向量1、向量2)\n",
    "##### 問題+A -> bert -> 一個句向量 -> A向量\n",
    "##### 問題+B -> bert -> 一個句向量 -> B向量\n",
    "##### [向量1,向量2]與向量A進行餘弦相似度計算 ->得到分數 [0.8,0.4]\n",
    "##### [向量1,向量2]與向量B進行餘弦相似度計算 ->得到分數 [0.5,0.6]\n",
    "##### 每個選項選出最大的一個，有就是0.8和0.6，由於0.8>0.6故選A\n"
   ]
  },
  {
   "cell_type": "code",
   "execution_count": null,
   "metadata": {
    "id": "CBBZon0e_tjt"
   },
   "outputs": [],
   "source": [
    "Answer=[]\n",
    "for i in range(len(test_data)):\n",
    "  try:\n",
    "    scoresA=np.array(0)\n",
    "    scoresB=np.array(0)\n",
    "    scoresC=np.array(0)\n",
    "    scoresD=np.array(0)\n",
    "    t=np.array(test_data['文章內容'][i])[:,0]\n",
    "    scoresA=np.sort(cosine_similarity(t,np.array(test_data['A'][i])).reshape(1,len(t)))\n",
    "    scoresB=np.sort(cosine_similarity(t,np.array(test_data['B'][i])).reshape(1,len(t)))\n",
    "    scoresC=np.sort(cosine_similarity(t,np.array(test_data['C'][i])).reshape(1,len(t)))\n",
    "    scoresD=np.sort(cosine_similarity(t,np.array(test_data['D'][i])).reshape(1,len(t)))\n",
    "    Scores=[]\n",
    "    Options=['A','B','C','D']\n",
    "    Scores.append(scoresA[:,-1:].sum())\n",
    "    Scores.append(scoresB[:,-1:].sum())\n",
    "    Scores.append(scoresC[:,-1:].sum())\n",
    "    Scores.append(scoresD[:,-1:].sum())\n",
    "    answer_index=Scores.index(max(Scores))\n",
    "    answer=Options[answer_index]\n",
    "  except:\n",
    "    answer=0\n",
    "  Answer.append(answer)"
   ]
  },
  {
   "cell_type": "code",
   "execution_count": null,
   "metadata": {
    "id": "66lRkvCwjh0D"
   },
   "outputs": [],
   "source": [
    "test_data['Answer']=Answer"
   ]
  },
  {
   "cell_type": "code",
   "execution_count": null,
   "metadata": {
    "colab": {
     "base_uri": "https://localhost:8080/",
     "height": 35
    },
    "id": "2wukBR4Ni4Ps",
    "outputId": "04849036-8625-41dc-d160-d9b2b8da91b2"
   },
   "outputs": [
    {
     "name": "stdout",
     "output_type": "stream",
     "text": [
      "正確率為： 28.227848101265824\n"
     ]
    }
   ],
   "source": [
    "final=test_data[test_data['Answer']!=0]\n",
    "total=pd.value_counts(final['答案']==final['Answer'])\n",
    "print('正確率為：',total[1]/sum(total)*100)"
   ]
  },
  {
   "cell_type": "code",
   "execution_count": null,
   "metadata": {
    "colab": {
     "base_uri": "https://localhost:8080/",
     "height": 35
    },
    "id": "2o2eI4W6fEWy",
    "outputId": "62c62c15-756e-444e-a3b8-60a05a4644fd"
   },
   "outputs": [
    {
     "name": "stdout",
     "output_type": "stream",
     "text": [
      "正確率為： 26.005361930294907\n"
     ]
    }
   ],
   "source": [
    "final3=final[final['題目類型'].isin(['內容判斷','文章解析','選出對的'])]\n",
    "total=pd.value_counts(final3['答案']==final3['Answer'])\n",
    "print('正確率為：',total[1]/sum(total)*100)"
   ]
  },
  {
   "cell_type": "code",
   "execution_count": null,
   "metadata": {
    "colab": {
     "base_uri": "https://localhost:8080/",
     "height": 35
    },
    "id": "tq85s0aPfS1f",
    "outputId": "19b6f70f-08e8-4817-a1d4-8cb52f841ea0"
   },
   "outputs": [
    {
     "name": "stdout",
     "output_type": "stream",
     "text": [
      "正確率為： 36.84210526315789\n"
     ]
    }
   ],
   "source": [
    "final4=final[final['題目類型'].isin(['比對詞句','詞句理解','詞意理解'])]\n",
    "total=pd.value_counts(final4['答案']==final4['Answer'])\n",
    "print('正確率為：',total[1]/sum(total)*100)"
   ]
  },
  {
   "cell_type": "code",
   "execution_count": null,
   "metadata": {
    "colab": {
     "base_uri": "https://localhost:8080/",
     "height": 35
    },
    "id": "K-vI4IS7Sq5M",
    "outputId": "86cfbf0f-5d75-43a9-daea-98d3ca0785af"
   },
   "outputs": [
    {
     "name": "stdout",
     "output_type": "stream",
     "text": [
      "正確率為： 36.84210526315789\n"
     ]
    }
   ],
   "source": [
    "final5=final[final['題目類型'].isin(['選出錯的'])]\n",
    "total=pd.value_counts(final4['答案']==final4['Answer'])\n",
    "print('正確率為：',total[1]/sum(total)*100)"
   ]
  },
  {
   "cell_type": "code",
   "execution_count": null,
   "metadata": {
    "colab": {
     "base_uri": "https://localhost:8080/",
     "height": 35
    },
    "id": "WB2hifUxfgCX",
    "outputId": "666c5492-46ab-47ba-b0ca-f82f3381e226"
   },
   "outputs": [
    {
     "data": {
      "text/plain": [
       "52"
      ]
     },
     "execution_count": 189,
     "metadata": {
      "tags": []
     },
     "output_type": "execute_result"
    }
   ],
   "source": [
    "len(final4)"
   ]
  },
  {
   "cell_type": "markdown",
   "metadata": {
    "id": "IfwQJiSbnwu0"
   },
   "source": [
    "#方案二\n",
    "###嘗試看看，先用一樣的餘弦相似度，找出最相似的句子，再單純依單一句子與問題+選想進行餘弦相似度計算，選出最大值為答案\n",
    "#舉例(數字隨便說的)：\n",
    "####文章：一個幽靈，共產主義的幽靈，在歐洲遊蕩。為了對這個幽靈進行神聖的圍剿，舊歐洲的一切勢力，教皇和沙皇、梅特涅和基佐、法國的激進派和德國的警察，都聯合起來了。\n",
    "####問題：什麼的幽靈在歐洲遊蕩？\n",
    "####A：共產主義的幽靈\n",
    "####B：中華民國的幽靈\n",
    "#####文章以句號切成兩句 -> bert -> 轉成2句向量(向量1、向量2)\n",
    "#####文章->bert(向量3)\n",
    "#####問題+A -> bert -> 一個句向量 -> A向量\n",
    "#####問題+B -> bert -> 一個句向量 -> B向量\n",
    "##### [向量1,向量2]與向量3進行餘弦相似度計算 ->得到分數 [0.9,0.5]\n",
    "##### 因0.9>0.5故選擇第一句(向量1)當作最相關向量\n",
    "##### [向量1]與向量A進行餘弦相似度計算 ->得到分數 [0.8]\n",
    "##### [向量1]與向量B進行餘弦相似度計算 ->得到分數 [0.6]\n",
    "##### 由於0.8>0.6故選A為正確答案\n"
   ]
  },
  {
   "cell_type": "code",
   "execution_count": null,
   "metadata": {
    "id": "EufyKrggZl7f"
   },
   "outputs": [],
   "source": [
    "#選出最相關的句子\n",
    "most_related_sentence=[]\n",
    "n3=len(test_data)\n",
    "Answer=[]\n",
    "for i in range(n3):\n",
    "  t1=np.array(test_data['文章內容'][i])[:,0]\n",
    "  related=cosine_similarity(t1,np.array(test_data['Q'][i]))\n",
    "  related_sort=np.sort(related.reshape(1,len(t1)))\n",
    "  related_list=list(related.reshape(1,len(t1))[0,:])\n",
    "  nn=related_list.index(related_sort[0,-1:])\n",
    "  try:\n",
    "    scoresA=np.array(0)\n",
    "    scoresB=np.array(0)\n",
    "    scoresC=np.array(0)\n",
    "    scoresD=np.array(0)\n",
    "    t=t1[nn,:].reshape(1,768)\n",
    "    scoresA=np.sort(cosine_similarity(t,np.array(test_data['A'][i])).reshape(1,len(t)))\n",
    "    scoresB=np.sort(cosine_similarity(t,np.array(test_data['B'][i])).reshape(1,len(t)))\n",
    "    scoresC=np.sort(cosine_similarity(t,np.array(test_data['C'][i])).reshape(1,len(t)))\n",
    "    scoresD=np.sort(cosine_similarity(t,np.array(test_data['D'][i])).reshape(1,len(t)))\n",
    "    Scores=[]\n",
    "    Options=['A','B','C','D']\n",
    "    Scores.append(scoresA[:,-1:].sum())\n",
    "    Scores.append(scoresB[:,-1:].sum())\n",
    "    Scores.append(scoresC[:,-1:].sum())\n",
    "    Scores.append(scoresD[:,-1:].sum())\n",
    "    answer_index=Scores.index(max(Scores))\n",
    "    answer=Options[answer_index]\n",
    "  except:\n",
    "    answer=0\n",
    "  Answer.append(answer)"
   ]
  },
  {
   "cell_type": "code",
   "execution_count": null,
   "metadata": {
    "id": "ZVKo5XJrDXyA"
   },
   "outputs": [],
   "source": [
    "test_data['Answer']=Answer"
   ]
  },
  {
   "cell_type": "code",
   "execution_count": null,
   "metadata": {
    "colab": {
     "base_uri": "https://localhost:8080/",
     "height": 35
    },
    "id": "68dg33JgAGJz",
    "outputId": "df1ed1ff-f2b9-4f1f-c5eb-b271b83a7af4"
   },
   "outputs": [
    {
     "name": "stdout",
     "output_type": "stream",
     "text": [
      "正確率為： 26.83544303797468\n"
     ]
    }
   ],
   "source": [
    "final=test_data[test_data['Answer']!=0]\n",
    "total=pd.value_counts(final['答案']==final['Answer'])\n",
    "print('正確率為：',total[1]/sum(total)*100)"
   ]
  },
  {
   "cell_type": "markdown",
   "metadata": {
    "id": "mkq3PJLK0sNM"
   },
   "source": [
    "### 比較兩個方案之後，發現方案一正確率較高，故選擇方案一來對會考題目進行預測"
   ]
  },
  {
   "cell_type": "code",
   "execution_count": null,
   "metadata": {
    "id": "Mitn4GrM0OK0"
   },
   "outputs": [],
   "source": [
    "big_test=pd.read_excel('會考 訓練題庫.xlsx')"
   ]
  },
  {
   "cell_type": "code",
   "execution_count": null,
   "metadata": {
    "id": "zj730H740OXG"
   },
   "outputs": [],
   "source": [
    "for i in range(len(big_test.columns)):\n",
    "  big_test .iloc[:,i]=big_test.iloc[:,i].map(dot_change)\n",
    "#逗號清除\n",
    "big_test.dropna(axis=0,inplace=True) \n",
    "#清除NA\n",
    "big_test.reset_index(inplace=True)\n",
    "big_test['A']=question_choice(big_test['題目'],big_test['選項(A)'])\n",
    "big_test['B']=question_choice(big_test['題目'],big_test['選項(B)'])\n",
    "big_test['C']=question_choice(big_test['題目'],big_test['選項(C)'])\n",
    "big_test['D']=question_choice(big_test['題目'],big_test['選項(D)'])\n",
    "big_test['文章內容']=big_test['文章內容'].map(text_change2)\n",
    "#製作題目格式\n",
    "Q=[]\n",
    "for i in range(len(big_test)):\n",
    "  q=text_change(big_test['題目'][i])\n",
    "  Q.append(q)\n",
    "big_test['Q']=Q"
   ]
  },
  {
   "cell_type": "code",
   "execution_count": null,
   "metadata": {
    "colab": {
     "base_uri": "https://localhost:8080/",
     "height": 126
    },
    "id": "NvTX5rgm0z2I",
    "outputId": "35eaf7a3-1645-4111-cd58-336931641c7b"
   },
   "outputs": [
    {
     "name": "stderr",
     "output_type": "stream",
     "text": [
      "/usr/local/lib/python3.6/dist-packages/ipykernel_launcher.py:2: SettingWithCopyWarning: \n",
      "A value is trying to be set on a copy of a slice from a DataFrame\n",
      "\n",
      "See the caveats in the documentation: https://pandas.pydata.org/pandas-docs/stable/user_guide/indexing.html#returning-a-view-versus-a-copy\n",
      "  \n"
     ]
    }
   ],
   "source": [
    "for i in range(len(big_test['文章內容'])):\n",
    "  big_test['文章內容'][i]=list(map(create_sentence_vector1,big_test['文章內容'][i]))"
   ]
  },
  {
   "cell_type": "code",
   "execution_count": null,
   "metadata": {
    "id": "InqxDO8bfs-S"
   },
   "outputs": [],
   "source": [
    "big_test['A']=big_test['A'].map(create_sentence_vector2)\n",
    "big_test['B']=big_test['B'].map(create_sentence_vector2)\n",
    "big_test['C']=big_test['C'].map(create_sentence_vector2)\n",
    "big_test['D']=big_test['D'].map(create_sentence_vector2)"
   ]
  },
  {
   "cell_type": "code",
   "execution_count": null,
   "metadata": {
    "id": "x6x_O6dQf-81"
   },
   "outputs": [],
   "source": [
    "Answer=[]\n",
    "for i in range(len(big_test)):\n",
    "  try:\n",
    "    scoresA=np.array(0)\n",
    "    scoresB=np.array(0)\n",
    "    scoresC=np.array(0)\n",
    "    scoresD=np.array(0)\n",
    "    t=np.array(big_test['文章內容'][i])[:,0]\n",
    "    scoresA=np.sort(cosine_similarity(t,np.array(big_test['A'][i])).reshape(1,len(t)))\n",
    "    scoresB=np.sort(cosine_similarity(t,np.array(big_test['B'][i])).reshape(1,len(t)))\n",
    "    scoresC=np.sort(cosine_similarity(t,np.array(big_test['C'][i])).reshape(1,len(t)))\n",
    "    scoresD=np.sort(cosine_similarity(t,np.array(big_test['D'][i])).reshape(1,len(t)))\n",
    "    Scores=[]\n",
    "    Options=['A','B','C','D']\n",
    "    Scores.append(scoresA[:,-1:].sum())\n",
    "    Scores.append(scoresB[:,-1:].sum())\n",
    "    Scores.append(scoresC[:,-1:].sum())\n",
    "    Scores.append(scoresD[:,-1:].sum())\n",
    "    answer_index=Scores.index(max(Scores))\n",
    "    answer=Options[answer_index]\n",
    "  except:\n",
    "    answer=0\n",
    "  Answer.append(answer)"
   ]
  },
  {
   "cell_type": "code",
   "execution_count": null,
   "metadata": {
    "colab": {
     "base_uri": "https://localhost:8080/",
     "height": 35
    },
    "id": "CruKPNnlgGme",
    "outputId": "9db21098-1968-4ddb-e4d9-7df2bf644a6b"
   },
   "outputs": [
    {
     "name": "stdout",
     "output_type": "stream",
     "text": [
      "正確率為： 38.095238095238095\n"
     ]
    }
   ],
   "source": [
    "big_test['Answer']=Answer\n",
    "final=big_test[big_test['Answer']!=0]\n",
    "total=pd.value_counts(final['答案']==final['Answer'])\n",
    "print('正確率為：',total[1]/sum(total)*100)"
   ]
  },
  {
   "cell_type": "code",
   "execution_count": null,
   "metadata": {
    "colab": {
     "base_uri": "https://localhost:8080/",
     "height": 35
    },
    "id": "-INE9pkfgTEB",
    "outputId": "183a3281-afe9-4e6a-fd22-af54ddc68750"
   },
   "outputs": [
    {
     "data": {
      "text/plain": [
       "array(['詞意理解', '文章解析', '選出錯的', '文章理解'], dtype=object)"
      ]
     },
     "execution_count": 67,
     "metadata": {
      "tags": []
     },
     "output_type": "execute_result"
    }
   ],
   "source": [
    "final['題目類型'].unique()"
   ]
  },
  {
   "cell_type": "markdown",
   "metadata": {
    "id": "r9Q1-PeKPI0Q"
   },
   "source": [
    "# 方法 　　　　　訓練資料　　　　　　　　　總正確率\n",
    "# 一\t\t　　　　　　　國中段考題庫\t　　　17.36%\n",
    "# 一\t\t　　　　　　　國中會考題目\t　　　32.56%\n",
    "\n",
    "\n",
    "---\n",
    "\n",
    "\n",
    "# 二\t　　方案一\t　　全部題庫(1000題)\t　　28.23%\n",
    "# 二\t　　方案二\t　　全部題庫(1000題)\t　　26.83%\n",
    "\n",
    "\n",
    "\n",
    "---\n",
    "\n",
    "\n",
    "# 二\t　　方案一\t　　國中會考題目\t　　38%\n",
    "\n"
   ]
  },
  {
   "cell_type": "markdown",
   "metadata": {
    "id": "Y5lov95pkUQn"
   },
   "source": [
    "### 答對率：38%\n"
   ]
  },
  {
   "cell_type": "markdown",
   "metadata": {
    "id": "eXGHNOtY00XV"
   },
   "source": [
    "### 查看一下各種題型的正確率，題型我們分成四類，分為'詞意理解'、'文章解析'、'選出錯的'、'文章理解' 四大分類"
   ]
  },
  {
   "cell_type": "code",
   "execution_count": null,
   "metadata": {
    "colab": {
     "base_uri": "https://localhost:8080/",
     "height": 35
    },
    "id": "8jGTcTxI1K89",
    "outputId": "f7ff88e8-9179-4659-aa62-3142c7c240cb"
   },
   "outputs": [
    {
     "name": "stdout",
     "output_type": "stream",
     "text": [
      "正確率為： 11.11111111111111\n"
     ]
    }
   ],
   "source": [
    "#文章理解(即理解文章主旨)\n",
    "final2=final[final['題目類型'].isin(['文章理解'])]\n",
    "total=pd.value_counts(final2['答案']==final2['Answer'])\n",
    "print('正確率為：',total[1]/sum(total)*100)"
   ]
  },
  {
   "cell_type": "code",
   "execution_count": null,
   "metadata": {
    "colab": {
     "base_uri": "https://localhost:8080/",
     "height": 35
    },
    "id": "d8g-kopP1N-D",
    "outputId": "ef63fc41-9f0b-49ae-98aa-c5d186fcccb4"
   },
   "outputs": [
    {
     "name": "stdout",
     "output_type": "stream",
     "text": [
      "正確率為： 50.0\n"
     ]
    }
   ],
   "source": [
    "#文章解析(須看懂題目後，根據題目敘述選出與選項最近者)\n",
    "final3=final[final['題目類型'].isin(['文章解析'])]\n",
    "total=pd.value_counts(final3['答案']==final3['Answer'])\n",
    "print('正確率為：',total[1]/sum(total)*100)"
   ]
  },
  {
   "cell_type": "code",
   "execution_count": null,
   "metadata": {
    "colab": {
     "base_uri": "https://localhost:8080/",
     "height": 35
    },
    "id": "sPVNigC-1OQQ",
    "outputId": "6e06e32e-c670-4288-8bf6-d8fc5ac3aa84"
   },
   "outputs": [
    {
     "name": "stdout",
     "output_type": "stream",
     "text": [
      "正確率為： 57.14285714285714\n"
     ]
    }
   ],
   "source": [
    "#詞意理解(選出選項之語句與題目之語句最相近者)\n",
    "final4=final[final['題目類型'].isin(['詞意理解'])]\n",
    "total=pd.value_counts(final4['答案']==final4['Answer'])\n",
    "print('正確率為：',total[1]/sum(total)*100)"
   ]
  },
  {
   "cell_type": "code",
   "execution_count": null,
   "metadata": {
    "colab": {
     "base_uri": "https://localhost:8080/",
     "height": 35
    },
    "id": "exervwcD1OiI",
    "outputId": "47ec1930-fc94-4965-ba09-2d97f893d27a"
   },
   "outputs": [
    {
     "name": "stdout",
     "output_type": "stream",
     "text": [
      "正確率為： 42.857142857142854\n"
     ]
    }
   ],
   "source": [
    "#選出錯的(題目敘述題及「下列何者錯誤」者)\n",
    "final5=final[final['題目類型'].isin(['選出錯的'])]\n",
    "total=pd.value_counts(final5['答案']==final5['Answer'])\n",
    "print('正確率為：',total[1]/sum(total)*100)"
   ]
  },
  {
   "cell_type": "markdown",
   "metadata": {
    "id": "IrRBtJ6K1pD2"
   },
   "source": [
    "# 結論\n",
    "1.    Bert在做會考的題目時，成果明顯好過一般的選擇題\n",
    "2.  然而總正確率依舊大概只有40%，其中文章理解的題目明顯低於其他，文章解析與詞意理解答得最好\n",
    "\n",
    "# 分析\n",
    "\n",
    "1.總體正確率的話，可能肇因於國中會考題目太過於困難，有太多隱喻的敘述，加上背後有很多意識形態，即使是我們自己寫大概也只對70、80%。如果以符號學來說的話，機器通常只能理解問題的表層，也就是題目字面上的意思，然而我們考試的閱讀題目描述時常不是只停留在語言系統層面，往往有更多的隱喻跟衍伸的意義，在這樣的情況下，可能會讓增加機器在理解題目上的困難。\n",
    "\n",
    "2.此外，中文閱讀測驗的答案並不一定在文章之中，因為我們的方法是看每一句的相似度給分數，所以當問題需要先備知識或日常生活中的經驗依據時，便可能有問題。\n",
    "\n",
    "3.但這並不能說明我們的考試背後沒有邏輯，Bert的訓練方式是詞句的鑲嵌（利用維基百科的資料來做填充題、跟預測下一句），與寫考卷不同，也就是說原本的訓練出來的形式邏輯就不同。如果說人對於社會的詮釋是基於我們理解世界的方式與經驗，那AI理解的便是由演算法(方式)與資料(經驗)所構成。而Bert被訓練的方式與資料原本便不是為了考試，且它缺乏人類有意識的面對社會的這種反身性思考，因此就算機器能記住寫過的題目，對於理解方式也無法自我修正，所以對於考試的失力可能在此。\n",
    "\n",
    "4.但很有趣的一點是，**文章解析**答對率大於**文章理解**的答對率。我們覺得可能是因為Bert經由維基百科資料的經驗，可能可以藉由那些資料判斷關鍵字，且解析這件事隱含著的主觀意義較少，選出錯的、詞句理解(這種甚至可以說答案就在文章中)亦同。但如果是理解的，理論上每個人對於文章都有自己的解釋，但國文考試要求我們去選出那個他們所希冀的答案，就算其他答案可能也是正確的，這代表機器對於一段文字的理解，其實跟人類是有十分大的差距的，我想這也是為何整體表現較差的Fine-tuning，文章理解答對率反而大幅提升，代表這種「理解」是可以經過學習來獲得。\n",
    "\n",
    "（P.S.題外話，我們給機器為了跟蘇軾有關的題目，但我們發現機器讀了蘇軾也不代表會有靈魂）\n"
   ]
  },
  {
   "cell_type": "markdown",
   "metadata": {
    "id": "Ugn9BupWYhJJ"
   },
   "source": [
    "# 對於助教的指教的回應"
   ]
  },
  {
   "cell_type": "markdown",
   "metadata": {
    "id": "kMn9NJniZp_4"
   },
   "source": [
    "關於這次的專案，我們認為在文組的學問中若能夠用理科的概念來切入，反之應該亦是如此。我們將符號學與語言學的想法帶入AI之中，並非是為了炫耀，只是希望能將自身所學應用在各個領域，而非文科只能被侷限於文科，理科只能被侷限於理科。\n",
    "\n",
    "我們試圖從不同的角度對此次題目下結論，我們嘗試從語言學與符號學的角度切入，引用索緒爾的學說。索緒爾的《普通語言學教程》中提及「所指」、「能指」的概念，「所指」、「能指」在符號學當中是兩不可分割的概念，能指係指符號的音響形象，而所指則是符號所代表的意義，兩者在相輔相成下使我們聽到「樹」一詞時能夠聯想到樹的圖像，此及所指與能指之意義。\n",
    "\n",
    "故我們引用其學說切入，我們認為機器學習在預測國中國文閱讀測驗時出現答對率偏低的情形與「所指」、「能指」有關，雖然bert機器學習本身擁有判斷詞意的能力，然在文學語言中，詞語大多是經過修飾的、有意涵的，常常不僅僅是表面的意思，甚至我們在看待文學語言的時候，所聯想到的事物可能人人皆有所不同，這亦和羅蘭．巴特所提出的「作者已死」概念有關，而這就是我們認為為何bert在判斷國文閱讀測驗時，正確率會較低的原因。"
   ]
  }
 ],
 "metadata": {
  "accelerator": "TPU",
  "colab": {
   "collapsed_sections": [],
   "name": "讓AI寫教育會考國文閱讀測驗題目",
   "provenance": [],
   "toc_visible": true
  },
  "kernelspec": {
   "display_name": "Python 3",
   "language": "python",
   "name": "python3"
  },
  "language_info": {
   "codemirror_mode": {
    "name": "ipython",
    "version": 3
   },
   "file_extension": ".py",
   "mimetype": "text/x-python",
   "name": "python",
   "nbconvert_exporter": "python",
   "pygments_lexer": "ipython3",
   "version": "3.8.5"
  }
 },
 "nbformat": 4,
 "nbformat_minor": 1
}
